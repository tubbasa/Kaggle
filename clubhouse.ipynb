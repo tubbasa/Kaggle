{
 "cells": [
  {
   "cell_type": "code",
   "execution_count": 1,
   "id": "quick-press",
   "metadata": {
    "_cell_guid": "b1076dfc-b9ad-4769-8c92-a6c4dae69d19",
    "_uuid": "8f2839f25d086af736a60e9eeb907d3b93b6e0e5",
    "execution": {
     "iopub.execute_input": "2021-04-18T17:16:05.607111Z",
     "iopub.status.busy": "2021-04-18T17:16:05.606374Z",
     "iopub.status.idle": "2021-04-18T17:16:05.616120Z",
     "shell.execute_reply": "2021-04-18T17:16:05.616952Z"
    },
    "papermill": {
     "duration": 0.038474,
     "end_time": "2021-04-18T17:16:05.617295",
     "exception": false,
     "start_time": "2021-04-18T17:16:05.578821",
     "status": "completed"
    },
    "tags": []
   },
   "outputs": [
    {
     "name": "stdout",
     "output_type": "stream",
     "text": [
      "/kaggle/input/clubhouse-dataset/Clubhouse_Dataset_v1.db\n"
     ]
    }
   ],
   "source": [
    "# This Python 3 environment comes with many helpful analytics libraries installed\n",
    "# It is defined by the kaggle/python Docker image: https://github.com/kaggle/docker-python\n",
    "# For example, here's several helpful packages to load\n",
    "\n",
    "import numpy as np # linear algebra\n",
    "import pandas as pd # data processing, CSV file I/O (e.g. pd.read_csv)\n",
    "import sqlite3\n",
    "# Input data files are available in the read-only \"../input/\" directory\n",
    "# For example, running this (by clicking run or pressing Shift+Enter) will list all files under the input directory\n",
    "\n",
    "import os\n",
    "for dirname, _, filenames in os.walk('/kaggle/input'):\n",
    "    for filename in filenames:\n",
    "        print(os.path.join(dirname, filename))\n",
    "\n",
    "# You can write up to 20GB to the current directory (/kaggle/working/) that gets preserved as output when you create a version using \"Save & Run All\" \n",
    "# You can also write temporary files to /kaggle/temp/, but they won't be saved outside of the current session"
   ]
  },
  {
   "cell_type": "code",
   "execution_count": 2,
   "id": "aware-portal",
   "metadata": {
    "execution": {
     "iopub.execute_input": "2021-04-18T17:16:05.656422Z",
     "iopub.status.busy": "2021-04-18T17:16:05.655670Z",
     "iopub.status.idle": "2021-04-18T17:16:16.784593Z",
     "shell.execute_reply": "2021-04-18T17:16:16.785086Z"
    },
    "papermill": {
     "duration": 11.150607,
     "end_time": "2021-04-18T17:16:16.785290",
     "exception": false,
     "start_time": "2021-04-18T17:16:05.634683",
     "status": "completed"
    },
    "tags": []
   },
   "outputs": [
    {
     "data": {
      "text/html": [
       "<div>\n",
       "<style scoped>\n",
       "    .dataframe tbody tr th:only-of-type {\n",
       "        vertical-align: middle;\n",
       "    }\n",
       "\n",
       "    .dataframe tbody tr th {\n",
       "        vertical-align: top;\n",
       "    }\n",
       "\n",
       "    .dataframe thead th {\n",
       "        text-align: right;\n",
       "    }\n",
       "</style>\n",
       "<table border=\"1\" class=\"dataframe\">\n",
       "  <thead>\n",
       "    <tr style=\"text-align: right;\">\n",
       "      <th></th>\n",
       "      <th>user_id</th>\n",
       "      <th>name</th>\n",
       "      <th>photo_url</th>\n",
       "      <th>username</th>\n",
       "      <th>twitter</th>\n",
       "      <th>instagram</th>\n",
       "      <th>num_followers</th>\n",
       "      <th>num_following</th>\n",
       "      <th>time_created</th>\n",
       "      <th>invited_by_user_profile</th>\n",
       "    </tr>\n",
       "  </thead>\n",
       "  <tbody>\n",
       "    <tr>\n",
       "      <th>0</th>\n",
       "      <td>4</td>\n",
       "      <td>Rohan Seth</td>\n",
       "      <td>https://clubhouseprod.s3.amazonaws.com:443/4_b...</td>\n",
       "      <td>rohan</td>\n",
       "      <td>rohanseth</td>\n",
       "      <td>null</td>\n",
       "      <td>4187268</td>\n",
       "      <td>599</td>\n",
       "      <td>2020-03-17T07:51:28.085566+00:00</td>\n",
       "      <td>null</td>\n",
       "    </tr>\n",
       "    <tr>\n",
       "      <th>1</th>\n",
       "      <td>5</td>\n",
       "      <td>Paul Davison</td>\n",
       "      <td>https://clubhouseprod.s3.amazonaws.com:443/5_e...</td>\n",
       "      <td>paul</td>\n",
       "      <td>pdavison</td>\n",
       "      <td>null</td>\n",
       "      <td>3718334</td>\n",
       "      <td>1861</td>\n",
       "      <td>2020-03-17T14:36:19.468976+00:00</td>\n",
       "      <td>null</td>\n",
       "    </tr>\n",
       "    <tr>\n",
       "      <th>2</th>\n",
       "      <td>8</td>\n",
       "      <td>Johnny Appleseed</td>\n",
       "      <td>None</td>\n",
       "      <td>apple1</td>\n",
       "      <td>null</td>\n",
       "      <td>srt_tester_9</td>\n",
       "      <td>20</td>\n",
       "      <td>81</td>\n",
       "      <td>2020-03-19T19:47:00.323603+00:00</td>\n",
       "      <td>null</td>\n",
       "    </tr>\n",
       "    <tr>\n",
       "      <th>3</th>\n",
       "      <td>10</td>\n",
       "      <td>DK 🖍</td>\n",
       "      <td>https://clubhouseprod.s3.amazonaws.com:443/10_...</td>\n",
       "      <td>dk</td>\n",
       "      <td>dksf</td>\n",
       "      <td>null</td>\n",
       "      <td>49538</td>\n",
       "      <td>173</td>\n",
       "      <td>2020-03-19T23:38:52.574777+00:00</td>\n",
       "      <td>null</td>\n",
       "    </tr>\n",
       "    <tr>\n",
       "      <th>4</th>\n",
       "      <td>12</td>\n",
       "      <td>Jonathan Gheller</td>\n",
       "      <td>https://clubhouseprod.s3.amazonaws.com:443/12_...</td>\n",
       "      <td>jonathan</td>\n",
       "      <td>jgheller</td>\n",
       "      <td>null</td>\n",
       "      <td>21250</td>\n",
       "      <td>81</td>\n",
       "      <td>2020-03-20T02:30:22.188084+00:00</td>\n",
       "      <td>null</td>\n",
       "    </tr>\n",
       "  </tbody>\n",
       "</table>\n",
       "</div>"
      ],
      "text/plain": [
       "   user_id              name  \\\n",
       "0        4        Rohan Seth   \n",
       "1        5      Paul Davison   \n",
       "2        8  Johnny Appleseed   \n",
       "3       10              DK 🖍   \n",
       "4       12  Jonathan Gheller   \n",
       "\n",
       "                                           photo_url  username    twitter  \\\n",
       "0  https://clubhouseprod.s3.amazonaws.com:443/4_b...     rohan  rohanseth   \n",
       "1  https://clubhouseprod.s3.amazonaws.com:443/5_e...      paul   pdavison   \n",
       "2                                               None    apple1       null   \n",
       "3  https://clubhouseprod.s3.amazonaws.com:443/10_...        dk       dksf   \n",
       "4  https://clubhouseprod.s3.amazonaws.com:443/12_...  jonathan   jgheller   \n",
       "\n",
       "      instagram  num_followers  num_following  \\\n",
       "0          null        4187268            599   \n",
       "1          null        3718334           1861   \n",
       "2  srt_tester_9             20             81   \n",
       "3          null          49538            173   \n",
       "4          null          21250             81   \n",
       "\n",
       "                       time_created invited_by_user_profile  \n",
       "0  2020-03-17T07:51:28.085566+00:00                    null  \n",
       "1  2020-03-17T14:36:19.468976+00:00                    null  \n",
       "2  2020-03-19T19:47:00.323603+00:00                    null  \n",
       "3  2020-03-19T23:38:52.574777+00:00                    null  \n",
       "4  2020-03-20T02:30:22.188084+00:00                    null  "
      ]
     },
     "execution_count": 2,
     "metadata": {},
     "output_type": "execute_result"
    }
   ],
   "source": [
    "# Connect to db\n",
    "Sql = sqlite3.connect('/kaggle/input/clubhouse-dataset/Clubhouse_Dataset_v1.db')\n",
    "# Read the file into panda\n",
    "data = pd.read_sql_query(\"SELECT * FROM user\", Sql)\n",
    "data.head()"
   ]
  },
  {
   "cell_type": "code",
   "execution_count": 3,
   "id": "exotic-terrace",
   "metadata": {
    "execution": {
     "iopub.execute_input": "2021-04-18T17:16:16.821830Z",
     "iopub.status.busy": "2021-04-18T17:16:16.821240Z",
     "iopub.status.idle": "2021-04-18T17:16:17.844401Z",
     "shell.execute_reply": "2021-04-18T17:16:17.844879Z"
    },
    "papermill": {
     "duration": 1.043495,
     "end_time": "2021-04-18T17:16:17.845066",
     "exception": false,
     "start_time": "2021-04-18T17:16:16.801571",
     "status": "completed"
    },
    "tags": []
   },
   "outputs": [
    {
     "data": {
      "text/html": [
       "<div>\n",
       "<style scoped>\n",
       "    .dataframe tbody tr th:only-of-type {\n",
       "        vertical-align: middle;\n",
       "    }\n",
       "\n",
       "    .dataframe tbody tr th {\n",
       "        vertical-align: top;\n",
       "    }\n",
       "\n",
       "    .dataframe thead th {\n",
       "        text-align: right;\n",
       "    }\n",
       "</style>\n",
       "<table border=\"1\" class=\"dataframe\">\n",
       "  <thead>\n",
       "    <tr style=\"text-align: right;\">\n",
       "      <th></th>\n",
       "      <th>user_id</th>\n",
       "      <th>name</th>\n",
       "      <th>photo_url</th>\n",
       "      <th>username</th>\n",
       "      <th>twitter</th>\n",
       "      <th>instagram</th>\n",
       "      <th>num_followers</th>\n",
       "      <th>num_following</th>\n",
       "      <th>time_created</th>\n",
       "      <th>invited_by_user_profile</th>\n",
       "    </tr>\n",
       "  </thead>\n",
       "  <tbody>\n",
       "    <tr>\n",
       "      <th>332549</th>\n",
       "      <td>367394</td>\n",
       "      <td>Tuba Drip</td>\n",
       "      <td>https://clubhouseprod.s3.amazonaws.com:443/367...</td>\n",
       "      <td>tubad</td>\n",
       "      <td>null</td>\n",
       "      <td>null</td>\n",
       "      <td>5</td>\n",
       "      <td>12</td>\n",
       "      <td>2020-12-22T16:03:00.425793+00:00</td>\n",
       "      <td>243578</td>\n",
       "    </tr>\n",
       "    <tr>\n",
       "      <th>403329</th>\n",
       "      <td>448461</td>\n",
       "      <td>Tuba Kenn</td>\n",
       "      <td>https://clubhouseprod.s3.amazonaws.com:443/448...</td>\n",
       "      <td>tubakenn</td>\n",
       "      <td>null</td>\n",
       "      <td>pimpin_kenn</td>\n",
       "      <td>214</td>\n",
       "      <td>156</td>\n",
       "      <td>2020-12-15T17:26:58.945749+00:00</td>\n",
       "      <td>119115</td>\n",
       "    </tr>\n",
       "  </tbody>\n",
       "</table>\n",
       "</div>"
      ],
      "text/plain": [
       "        user_id       name                                          photo_url  \\\n",
       "332549   367394  Tuba Drip  https://clubhouseprod.s3.amazonaws.com:443/367...   \n",
       "403329   448461  Tuba Kenn  https://clubhouseprod.s3.amazonaws.com:443/448...   \n",
       "\n",
       "        username twitter    instagram  num_followers  num_following  \\\n",
       "332549     tubad    null         null              5             12   \n",
       "403329  tubakenn    null  pimpin_kenn            214            156   \n",
       "\n",
       "                            time_created invited_by_user_profile  \n",
       "332549  2020-12-22T16:03:00.425793+00:00                  243578  \n",
       "403329  2020-12-15T17:26:58.945749+00:00                  119115  "
      ]
     },
     "execution_count": 3,
     "metadata": {},
     "output_type": "execute_result"
    }
   ],
   "source": [
    "data[data['name'].str.contains('Tuba ')]"
   ]
  },
  {
   "cell_type": "code",
   "execution_count": 4,
   "id": "extreme-cream",
   "metadata": {
    "execution": {
     "iopub.execute_input": "2021-04-18T17:16:17.882662Z",
     "iopub.status.busy": "2021-04-18T17:16:17.881967Z",
     "iopub.status.idle": "2021-04-18T17:16:18.945903Z",
     "shell.execute_reply": "2021-04-18T17:16:18.945378Z"
    },
    "papermill": {
     "duration": 1.084126,
     "end_time": "2021-04-18T17:16:18.946041",
     "exception": false,
     "start_time": "2021-04-18T17:16:17.861915",
     "status": "completed"
    },
    "tags": []
   },
   "outputs": [
    {
     "name": "stdout",
     "output_type": "stream",
     "text": [
      "<class 'pandas.core.frame.DataFrame'>\n",
      "RangeIndex: 1300515 entries, 0 to 1300514\n",
      "Data columns (total 10 columns):\n",
      " #   Column                   Non-Null Count    Dtype \n",
      "---  ------                   --------------    ----- \n",
      " 0   user_id                  1300515 non-null  int64 \n",
      " 1   name                     1300515 non-null  object\n",
      " 2   photo_url                1236637 non-null  object\n",
      " 3   username                 1300515 non-null  object\n",
      " 4   twitter                  1300515 non-null  object\n",
      " 5   instagram                1300515 non-null  object\n",
      " 6   num_followers            1300515 non-null  int64 \n",
      " 7   num_following            1300515 non-null  int64 \n",
      " 8   time_created             1300515 non-null  object\n",
      " 9   invited_by_user_profile  1300515 non-null  object\n",
      "dtypes: int64(3), object(7)\n",
      "memory usage: 99.2+ MB\n"
     ]
    }
   ],
   "source": [
    "data.info()"
   ]
  },
  {
   "cell_type": "code",
   "execution_count": 5,
   "id": "educational-disclosure",
   "metadata": {
    "execution": {
     "iopub.execute_input": "2021-04-18T17:16:18.987553Z",
     "iopub.status.busy": "2021-04-18T17:16:18.986891Z",
     "iopub.status.idle": "2021-04-18T17:16:20.009236Z",
     "shell.execute_reply": "2021-04-18T17:16:20.008632Z"
    },
    "papermill": {
     "duration": 1.045406,
     "end_time": "2021-04-18T17:16:20.009401",
     "exception": false,
     "start_time": "2021-04-18T17:16:18.963995",
     "status": "completed"
    },
    "tags": []
   },
   "outputs": [
    {
     "data": {
      "text/plain": [
       "user_id                        0\n",
       "name                           0\n",
       "photo_url                  63878\n",
       "username                       0\n",
       "twitter                        0\n",
       "instagram                      0\n",
       "num_followers                  0\n",
       "num_following                  0\n",
       "time_created                   0\n",
       "invited_by_user_profile        0\n",
       "dtype: int64"
      ]
     },
     "execution_count": 5,
     "metadata": {},
     "output_type": "execute_result"
    }
   ],
   "source": [
    "data.isnull().sum()"
   ]
  },
  {
   "cell_type": "code",
   "execution_count": 6,
   "id": "frequent-shopper",
   "metadata": {
    "execution": {
     "iopub.execute_input": "2021-04-18T17:16:20.071176Z",
     "iopub.status.busy": "2021-04-18T17:16:20.070422Z",
     "iopub.status.idle": "2021-04-18T17:16:20.219785Z",
     "shell.execute_reply": "2021-04-18T17:16:20.219077Z"
    },
    "papermill": {
     "duration": 0.190991,
     "end_time": "2021-04-18T17:16:20.219967",
     "exception": false,
     "start_time": "2021-04-18T17:16:20.028976",
     "status": "completed"
    },
    "tags": []
   },
   "outputs": [
    {
     "data": {
      "text/html": [
       "<div>\n",
       "<style scoped>\n",
       "    .dataframe tbody tr th:only-of-type {\n",
       "        vertical-align: middle;\n",
       "    }\n",
       "\n",
       "    .dataframe tbody tr th {\n",
       "        vertical-align: top;\n",
       "    }\n",
       "\n",
       "    .dataframe thead th {\n",
       "        text-align: right;\n",
       "    }\n",
       "</style>\n",
       "<table border=\"1\" class=\"dataframe\">\n",
       "  <thead>\n",
       "    <tr style=\"text-align: right;\">\n",
       "      <th></th>\n",
       "      <th>user_id</th>\n",
       "      <th>num_followers</th>\n",
       "      <th>num_following</th>\n",
       "    </tr>\n",
       "  </thead>\n",
       "  <tbody>\n",
       "    <tr>\n",
       "      <th>count</th>\n",
       "      <td>1.300515e+06</td>\n",
       "      <td>1.300515e+06</td>\n",
       "      <td>1.300515e+06</td>\n",
       "    </tr>\n",
       "    <tr>\n",
       "      <th>mean</th>\n",
       "      <td>7.303800e+05</td>\n",
       "      <td>2.603839e+02</td>\n",
       "      <td>1.154931e+02</td>\n",
       "    </tr>\n",
       "    <tr>\n",
       "      <th>std</th>\n",
       "      <td>4.276844e+05</td>\n",
       "      <td>1.674231e+04</td>\n",
       "      <td>1.945045e+02</td>\n",
       "    </tr>\n",
       "    <tr>\n",
       "      <th>min</th>\n",
       "      <td>4.000000e+00</td>\n",
       "      <td>0.000000e+00</td>\n",
       "      <td>0.000000e+00</td>\n",
       "    </tr>\n",
       "    <tr>\n",
       "      <th>25%</th>\n",
       "      <td>3.592120e+05</td>\n",
       "      <td>1.400000e+01</td>\n",
       "      <td>2.600000e+01</td>\n",
       "    </tr>\n",
       "    <tr>\n",
       "      <th>50%</th>\n",
       "      <td>7.258520e+05</td>\n",
       "      <td>3.700000e+01</td>\n",
       "      <td>6.100000e+01</td>\n",
       "    </tr>\n",
       "    <tr>\n",
       "      <th>75%</th>\n",
       "      <td>1.099280e+06</td>\n",
       "      <td>9.900000e+01</td>\n",
       "      <td>1.190000e+02</td>\n",
       "    </tr>\n",
       "    <tr>\n",
       "      <th>max</th>\n",
       "      <td>1.499999e+06</td>\n",
       "      <td>4.187268e+06</td>\n",
       "      <td>2.504000e+03</td>\n",
       "    </tr>\n",
       "  </tbody>\n",
       "</table>\n",
       "</div>"
      ],
      "text/plain": [
       "            user_id  num_followers  num_following\n",
       "count  1.300515e+06   1.300515e+06   1.300515e+06\n",
       "mean   7.303800e+05   2.603839e+02   1.154931e+02\n",
       "std    4.276844e+05   1.674231e+04   1.945045e+02\n",
       "min    4.000000e+00   0.000000e+00   0.000000e+00\n",
       "25%    3.592120e+05   1.400000e+01   2.600000e+01\n",
       "50%    7.258520e+05   3.700000e+01   6.100000e+01\n",
       "75%    1.099280e+06   9.900000e+01   1.190000e+02\n",
       "max    1.499999e+06   4.187268e+06   2.504000e+03"
      ]
     },
     "execution_count": 6,
     "metadata": {},
     "output_type": "execute_result"
    }
   ],
   "source": [
    "data.describe()"
   ]
  },
  {
   "cell_type": "code",
   "execution_count": 7,
   "id": "promotional-bidder",
   "metadata": {
    "execution": {
     "iopub.execute_input": "2021-04-18T17:16:20.266818Z",
     "iopub.status.busy": "2021-04-18T17:16:20.266138Z",
     "iopub.status.idle": "2021-04-18T17:16:23.716910Z",
     "shell.execute_reply": "2021-04-18T17:16:23.716299Z"
    },
    "papermill": {
     "duration": 3.478396,
     "end_time": "2021-04-18T17:16:23.717059",
     "exception": false,
     "start_time": "2021-04-18T17:16:20.238663",
     "status": "completed"
    },
    "tags": []
   },
   "outputs": [
    {
     "data": {
      "image/png": "[encoded data removed]",
      "text/plain": [
       "<Figure size 576x576 with 1 Axes>"
      ]
     },
     "metadata": {
      "needs_background": "light"
     },
     "output_type": "display_data"
    }
   ],
   "source": [
    "from matplotlib import pyplot as plt\n",
    "%matplotlib inline\n",
    "import seaborn as sns\n",
    "\n",
    "fig = plt.figure(figsize=(8,8))\n",
    "plt.scatter(x=data['num_followers'], y=data['num_following'])\n",
    "plt.xlabel('Num Of Followers')\n",
    "plt.ylabel('Num of Following')\n",
    "\n",
    "plt.show()"
   ]
  },
  {
   "cell_type": "code",
   "execution_count": 8,
   "id": "falling-screening",
   "metadata": {
    "execution": {
     "iopub.execute_input": "2021-04-18T17:16:23.973830Z",
     "iopub.status.busy": "2021-04-18T17:16:23.973125Z",
     "iopub.status.idle": "2021-04-18T17:16:24.717698Z",
     "shell.execute_reply": "2021-04-18T17:16:24.717020Z"
    },
    "papermill": {
     "duration": 0.981291,
     "end_time": "2021-04-18T17:16:24.717842",
     "exception": false,
     "start_time": "2021-04-18T17:16:23.736551",
     "status": "completed"
    },
    "tags": []
   },
   "outputs": [
    {
     "data": {
      "text/html": [
       "<div>\n",
       "<style scoped>\n",
       "    .dataframe tbody tr th:only-of-type {\n",
       "        vertical-align: middle;\n",
       "    }\n",
       "\n",
       "    .dataframe tbody tr th {\n",
       "        vertical-align: top;\n",
       "    }\n",
       "\n",
       "    .dataframe thead th {\n",
       "        text-align: right;\n",
       "    }\n",
       "</style>\n",
       "<table border=\"1\" class=\"dataframe\">\n",
       "  <thead>\n",
       "    <tr style=\"text-align: right;\">\n",
       "      <th></th>\n",
       "      <th>user_id</th>\n",
       "      <th>name</th>\n",
       "      <th>photo_url</th>\n",
       "      <th>username</th>\n",
       "      <th>twitter</th>\n",
       "      <th>instagram</th>\n",
       "      <th>num_followers</th>\n",
       "      <th>num_following</th>\n",
       "      <th>time_created</th>\n",
       "      <th>invited_by_user_profile</th>\n",
       "      <th>twitter_count</th>\n",
       "      <th>instagram_count</th>\n",
       "    </tr>\n",
       "  </thead>\n",
       "  <tbody>\n",
       "    <tr>\n",
       "      <th>0</th>\n",
       "      <td>4</td>\n",
       "      <td>Rohan Seth</td>\n",
       "      <td>https://clubhouseprod.s3.amazonaws.com:443/4_b...</td>\n",
       "      <td>rohan</td>\n",
       "      <td>rohanseth</td>\n",
       "      <td>null</td>\n",
       "      <td>4187268</td>\n",
       "      <td>599</td>\n",
       "      <td>2020-03-17T07:51:28.085566+00:00</td>\n",
       "      <td>null</td>\n",
       "      <td>1.0</td>\n",
       "      <td>0.0</td>\n",
       "    </tr>\n",
       "    <tr>\n",
       "      <th>1</th>\n",
       "      <td>5</td>\n",
       "      <td>Paul Davison</td>\n",
       "      <td>https://clubhouseprod.s3.amazonaws.com:443/5_e...</td>\n",
       "      <td>paul</td>\n",
       "      <td>pdavison</td>\n",
       "      <td>null</td>\n",
       "      <td>3718334</td>\n",
       "      <td>1861</td>\n",
       "      <td>2020-03-17T14:36:19.468976+00:00</td>\n",
       "      <td>null</td>\n",
       "      <td>1.0</td>\n",
       "      <td>0.0</td>\n",
       "    </tr>\n",
       "    <tr>\n",
       "      <th>2</th>\n",
       "      <td>8</td>\n",
       "      <td>Johnny Appleseed</td>\n",
       "      <td>None</td>\n",
       "      <td>apple1</td>\n",
       "      <td>null</td>\n",
       "      <td>srt_tester_9</td>\n",
       "      <td>20</td>\n",
       "      <td>81</td>\n",
       "      <td>2020-03-19T19:47:00.323603+00:00</td>\n",
       "      <td>null</td>\n",
       "      <td>0.0</td>\n",
       "      <td>1.0</td>\n",
       "    </tr>\n",
       "    <tr>\n",
       "      <th>3</th>\n",
       "      <td>10</td>\n",
       "      <td>DK 🖍</td>\n",
       "      <td>https://clubhouseprod.s3.amazonaws.com:443/10_...</td>\n",
       "      <td>dk</td>\n",
       "      <td>dksf</td>\n",
       "      <td>null</td>\n",
       "      <td>49538</td>\n",
       "      <td>173</td>\n",
       "      <td>2020-03-19T23:38:52.574777+00:00</td>\n",
       "      <td>null</td>\n",
       "      <td>1.0</td>\n",
       "      <td>0.0</td>\n",
       "    </tr>\n",
       "    <tr>\n",
       "      <th>4</th>\n",
       "      <td>12</td>\n",
       "      <td>Jonathan Gheller</td>\n",
       "      <td>https://clubhouseprod.s3.amazonaws.com:443/12_...</td>\n",
       "      <td>jonathan</td>\n",
       "      <td>jgheller</td>\n",
       "      <td>null</td>\n",
       "      <td>21250</td>\n",
       "      <td>81</td>\n",
       "      <td>2020-03-20T02:30:22.188084+00:00</td>\n",
       "      <td>null</td>\n",
       "      <td>1.0</td>\n",
       "      <td>0.0</td>\n",
       "    </tr>\n",
       "  </tbody>\n",
       "</table>\n",
       "</div>"
      ],
      "text/plain": [
       "   user_id              name  \\\n",
       "0        4        Rohan Seth   \n",
       "1        5      Paul Davison   \n",
       "2        8  Johnny Appleseed   \n",
       "3       10              DK 🖍   \n",
       "4       12  Jonathan Gheller   \n",
       "\n",
       "                                           photo_url  username    twitter  \\\n",
       "0  https://clubhouseprod.s3.amazonaws.com:443/4_b...     rohan  rohanseth   \n",
       "1  https://clubhouseprod.s3.amazonaws.com:443/5_e...      paul   pdavison   \n",
       "2                                               None    apple1       null   \n",
       "3  https://clubhouseprod.s3.amazonaws.com:443/10_...        dk       dksf   \n",
       "4  https://clubhouseprod.s3.amazonaws.com:443/12_...  jonathan   jgheller   \n",
       "\n",
       "      instagram  num_followers  num_following  \\\n",
       "0          null        4187268            599   \n",
       "1          null        3718334           1861   \n",
       "2  srt_tester_9             20             81   \n",
       "3          null          49538            173   \n",
       "4          null          21250             81   \n",
       "\n",
       "                       time_created invited_by_user_profile  twitter_count  \\\n",
       "0  2020-03-17T07:51:28.085566+00:00                    null            1.0   \n",
       "1  2020-03-17T14:36:19.468976+00:00                    null            1.0   \n",
       "2  2020-03-19T19:47:00.323603+00:00                    null            0.0   \n",
       "3  2020-03-19T23:38:52.574777+00:00                    null            1.0   \n",
       "4  2020-03-20T02:30:22.188084+00:00                    null            1.0   \n",
       "\n",
       "   instagram_count  \n",
       "0              0.0  \n",
       "1              0.0  \n",
       "2              1.0  \n",
       "3              0.0  \n",
       "4              0.0  "
      ]
     },
     "execution_count": 8,
     "metadata": {},
     "output_type": "execute_result"
    }
   ],
   "source": [
    "data.loc[(data['twitter'] != 'null'), 'twitter_count'] = 1\n",
    "data.loc[(data['twitter'] == 'null'), 'twitter_count'] = 0\n",
    "data.loc[(data['instagram'] != 'null'), 'instagram_count'] = 1\n",
    "data.loc[(data['instagram'] == 'null'), 'instagram_count'] = 0\n",
    "data.head()"
   ]
  },
  {
   "cell_type": "code",
   "execution_count": 9,
   "id": "acknowledged-dakota",
   "metadata": {
    "execution": {
     "iopub.execute_input": "2021-04-18T17:16:24.792877Z",
     "iopub.status.busy": "2021-04-18T17:16:24.792094Z",
     "iopub.status.idle": "2021-04-18T17:16:29.725643Z",
     "shell.execute_reply": "2021-04-18T17:16:29.724734Z"
    },
    "papermill": {
     "duration": 4.987505,
     "end_time": "2021-04-18T17:16:29.725799",
     "exception": false,
     "start_time": "2021-04-18T17:16:24.738294",
     "status": "completed"
    },
    "tags": []
   },
   "outputs": [
    {
     "name": "stdout",
     "output_type": "stream",
     "text": [
      "Visualize the number of followers by Twitter users vs Instagram users.\n",
      "\n"
     ]
    },
    {
     "data": {
      "image/png": "[encoded data removed]",
      "text/plain": [
       "<Figure size 576x576 with 1 Axes>"
      ]
     },
     "metadata": {
      "needs_background": "light"
     },
     "output_type": "display_data"
    },
    {
     "data": {
      "image/png": "[encoded data removed]",
      "text/plain": [
       "<Figure size 576x576 with 1 Axes>"
      ]
     },
     "metadata": {
      "needs_background": "light"
     },
     "output_type": "display_data"
    }
   ],
   "source": [
    "print ('Visualize the number of followers by Twitter users vs Instagram users.\\n')\n",
    "\n",
    "fig = plt.figure(figsize=(8,8))\n",
    "ax = fig.gca()\n",
    "data.boxplot(column='num_followers', by='twitter_count', ax=ax)\n",
    "ax.set_title('Number of followers by Twitter user')\n",
    "ax.set_ylabel('Num of followers')\n",
    "plt.show()\n",
    "\n",
    "fig = plt.figure(figsize=(8,8))\n",
    "ax = fig.gca()\n",
    "data.boxplot(column='num_followers', by='instagram_count', ax=ax)\n",
    "ax.set_title('Number of followers by Instagram user')\n",
    "ax.set_ylabel('Num of followers')\n",
    "plt.show()"
   ]
  },
  {
   "cell_type": "code",
   "execution_count": 10,
   "id": "liberal-subcommittee",
   "metadata": {
    "execution": {
     "iopub.execute_input": "2021-04-18T17:16:29.798051Z",
     "iopub.status.busy": "2021-04-18T17:16:29.797430Z",
     "iopub.status.idle": "2021-04-18T17:16:34.707854Z",
     "shell.execute_reply": "2021-04-18T17:16:34.708338Z"
    },
    "papermill": {
     "duration": 4.959679,
     "end_time": "2021-04-18T17:16:34.708520",
     "exception": false,
     "start_time": "2021-04-18T17:16:29.748841",
     "status": "completed"
    },
    "tags": []
   },
   "outputs": [
    {
     "name": "stdout",
     "output_type": "stream",
     "text": [
      "Visualize the number of followings by Twitter users vs Instagram users.\n"
     ]
    },
    {
     "data": {
      "image/png": "[encoded data removed]",
      "text/plain": [
       "<Figure size 576x576 with 1 Axes>"
      ]
     },
     "metadata": {
      "needs_background": "light"
     },
     "output_type": "display_data"
    },
    {
     "data": {
      "image/png": "[encoded data removed]",
      "text/plain": [
       "<Figure size 576x576 with 1 Axes>"
      ]
     },
     "metadata": {
      "needs_background": "light"
     },
     "output_type": "display_data"
    }
   ],
   "source": [
    "print ('Visualize the number of followings by Twitter users vs Instagram users.')\n",
    "\n",
    "fig = plt.figure(figsize=(8,8))\n",
    "ax = fig.gca()\n",
    "data.boxplot(column='num_following', by='twitter_count', ax=ax)\n",
    "ax.set_title('Number of followers by Twitter user')\n",
    "ax.set_ylabel('Num of followers')\n",
    "plt.show()\n",
    "\n",
    "fig = plt.figure(figsize=(8,8))\n",
    "ax = fig.gca()\n",
    "data.boxplot(column='num_following', by='instagram_count', ax=ax)\n",
    "ax.set_title('Number of followers by Instagram user')\n",
    "ax.set_ylabel('Num of followers')\n",
    "plt.show()"
   ]
  },
  {
   "cell_type": "code",
   "execution_count": 11,
   "id": "heavy-coordinate",
   "metadata": {
    "execution": {
     "iopub.execute_input": "2021-04-18T17:16:34.762836Z",
     "iopub.status.busy": "2021-04-18T17:16:34.762212Z",
     "iopub.status.idle": "2021-04-18T17:16:35.533815Z",
     "shell.execute_reply": "2021-04-18T17:16:35.534313Z"
    },
    "papermill": {
     "duration": 0.800831,
     "end_time": "2021-04-18T17:16:35.534500",
     "exception": false,
     "start_time": "2021-04-18T17:16:34.733669",
     "status": "completed"
    },
    "tags": []
   },
   "outputs": [],
   "source": [
    "data['time_created']  = [time.split('T')[0] for time in data['time_created']]"
   ]
  },
  {
   "cell_type": "code",
   "execution_count": 12,
   "id": "medieval-remark",
   "metadata": {
    "execution": {
     "iopub.execute_input": "2021-04-18T17:16:35.587975Z",
     "iopub.status.busy": "2021-04-18T17:16:35.587253Z",
     "iopub.status.idle": "2021-04-18T17:16:36.269681Z",
     "shell.execute_reply": "2021-04-18T17:16:36.270343Z"
    },
    "papermill": {
     "duration": 0.711165,
     "end_time": "2021-04-18T17:16:36.270532",
     "exception": false,
     "start_time": "2021-04-18T17:16:35.559367",
     "status": "completed"
    },
    "tags": []
   },
   "outputs": [
    {
     "data": {
      "text/html": [
       "<div>\n",
       "<style scoped>\n",
       "    .dataframe tbody tr th:only-of-type {\n",
       "        vertical-align: middle;\n",
       "    }\n",
       "\n",
       "    .dataframe tbody tr th {\n",
       "        vertical-align: top;\n",
       "    }\n",
       "\n",
       "    .dataframe thead th {\n",
       "        text-align: right;\n",
       "    }\n",
       "</style>\n",
       "<table border=\"1\" class=\"dataframe\">\n",
       "  <thead>\n",
       "    <tr style=\"text-align: right;\">\n",
       "      <th></th>\n",
       "      <th>user_id</th>\n",
       "      <th>num_followers</th>\n",
       "      <th>num_following</th>\n",
       "      <th>twitter_count</th>\n",
       "      <th>instagram_count</th>\n",
       "    </tr>\n",
       "    <tr>\n",
       "      <th>time_created</th>\n",
       "      <th></th>\n",
       "      <th></th>\n",
       "      <th></th>\n",
       "      <th></th>\n",
       "      <th></th>\n",
       "    </tr>\n",
       "  </thead>\n",
       "  <tbody>\n",
       "    <tr>\n",
       "      <th>2020-03-17</th>\n",
       "      <td>10307</td>\n",
       "      <td>7924152</td>\n",
       "      <td>2460</td>\n",
       "      <td>3.0</td>\n",
       "      <td>0.0</td>\n",
       "    </tr>\n",
       "    <tr>\n",
       "      <th>2020-03-19</th>\n",
       "      <td>18</td>\n",
       "      <td>49558</td>\n",
       "      <td>254</td>\n",
       "      <td>1.0</td>\n",
       "      <td>1.0</td>\n",
       "    </tr>\n",
       "    <tr>\n",
       "      <th>2020-03-20</th>\n",
       "      <td>25</td>\n",
       "      <td>68678</td>\n",
       "      <td>347</td>\n",
       "      <td>2.0</td>\n",
       "      <td>0.0</td>\n",
       "    </tr>\n",
       "    <tr>\n",
       "      <th>2020-03-21</th>\n",
       "      <td>45</td>\n",
       "      <td>77695</td>\n",
       "      <td>860</td>\n",
       "      <td>3.0</td>\n",
       "      <td>0.0</td>\n",
       "    </tr>\n",
       "    <tr>\n",
       "      <th>2020-03-22</th>\n",
       "      <td>74</td>\n",
       "      <td>37572</td>\n",
       "      <td>2129</td>\n",
       "      <td>4.0</td>\n",
       "      <td>1.0</td>\n",
       "    </tr>\n",
       "    <tr>\n",
       "      <th>...</th>\n",
       "      <td>...</td>\n",
       "      <td>...</td>\n",
       "      <td>...</td>\n",
       "      <td>...</td>\n",
       "      <td>...</td>\n",
       "    </tr>\n",
       "    <tr>\n",
       "      <th>2021-04-01</th>\n",
       "      <td>213767544</td>\n",
       "      <td>451</td>\n",
       "      <td>7514</td>\n",
       "      <td>51.0</td>\n",
       "      <td>29.0</td>\n",
       "    </tr>\n",
       "    <tr>\n",
       "      <th>2021-04-02</th>\n",
       "      <td>167884205</td>\n",
       "      <td>271</td>\n",
       "      <td>5404</td>\n",
       "      <td>38.0</td>\n",
       "      <td>18.0</td>\n",
       "    </tr>\n",
       "    <tr>\n",
       "      <th>2021-04-03</th>\n",
       "      <td>165320480</td>\n",
       "      <td>360</td>\n",
       "      <td>7874</td>\n",
       "      <td>53.0</td>\n",
       "      <td>21.0</td>\n",
       "    </tr>\n",
       "    <tr>\n",
       "      <th>2021-04-04</th>\n",
       "      <td>98310705</td>\n",
       "      <td>142</td>\n",
       "      <td>3535</td>\n",
       "      <td>29.0</td>\n",
       "      <td>14.0</td>\n",
       "    </tr>\n",
       "    <tr>\n",
       "      <th>2021-04-05</th>\n",
       "      <td>3488787</td>\n",
       "      <td>0</td>\n",
       "      <td>75</td>\n",
       "      <td>0.0</td>\n",
       "      <td>1.0</td>\n",
       "    </tr>\n",
       "  </tbody>\n",
       "</table>\n",
       "<p>384 rows × 5 columns</p>\n",
       "</div>"
      ],
      "text/plain": [
       "                user_id  num_followers  num_following  twitter_count  \\\n",
       "time_created                                                           \n",
       "2020-03-17        10307        7924152           2460            3.0   \n",
       "2020-03-19           18          49558            254            1.0   \n",
       "2020-03-20           25          68678            347            2.0   \n",
       "2020-03-21           45          77695            860            3.0   \n",
       "2020-03-22           74          37572           2129            4.0   \n",
       "...                 ...            ...            ...            ...   \n",
       "2021-04-01    213767544            451           7514           51.0   \n",
       "2021-04-02    167884205            271           5404           38.0   \n",
       "2021-04-03    165320480            360           7874           53.0   \n",
       "2021-04-04     98310705            142           3535           29.0   \n",
       "2021-04-05      3488787              0             75            0.0   \n",
       "\n",
       "              instagram_count  \n",
       "time_created                   \n",
       "2020-03-17                0.0  \n",
       "2020-03-19                1.0  \n",
       "2020-03-20                0.0  \n",
       "2020-03-21                0.0  \n",
       "2020-03-22                1.0  \n",
       "...                       ...  \n",
       "2021-04-01               29.0  \n",
       "2021-04-02               18.0  \n",
       "2021-04-03               21.0  \n",
       "2021-04-04               14.0  \n",
       "2021-04-05                1.0  \n",
       "\n",
       "[384 rows x 5 columns]"
      ]
     },
     "execution_count": 12,
     "metadata": {},
     "output_type": "execute_result"
    }
   ],
   "source": [
    "data.groupby('time_created').sum()"
   ]
  },
  {
   "cell_type": "code",
   "execution_count": 13,
   "id": "activated-scottish",
   "metadata": {
    "execution": {
     "iopub.execute_input": "2021-04-18T17:16:36.548196Z",
     "iopub.status.busy": "2021-04-18T17:16:36.547262Z",
     "iopub.status.idle": "2021-04-18T17:16:36.566053Z",
     "shell.execute_reply": "2021-04-18T17:16:36.565449Z"
    },
    "papermill": {
     "duration": 0.256149,
     "end_time": "2021-04-18T17:16:36.566229",
     "exception": false,
     "start_time": "2021-04-18T17:16:36.310080",
     "status": "completed"
    },
    "tags": []
   },
   "outputs": [
    {
     "data": {
      "text/html": [
       "<div>\n",
       "<style scoped>\n",
       "    .dataframe tbody tr th:only-of-type {\n",
       "        vertical-align: middle;\n",
       "    }\n",
       "\n",
       "    .dataframe tbody tr th {\n",
       "        vertical-align: top;\n",
       "    }\n",
       "\n",
       "    .dataframe thead th {\n",
       "        text-align: right;\n",
       "    }\n",
       "</style>\n",
       "<table border=\"1\" class=\"dataframe\">\n",
       "  <thead>\n",
       "    <tr style=\"text-align: right;\">\n",
       "      <th></th>\n",
       "      <th>user_id</th>\n",
       "      <th>name</th>\n",
       "      <th>photo_url</th>\n",
       "      <th>username</th>\n",
       "      <th>twitter</th>\n",
       "      <th>instagram</th>\n",
       "      <th>num_followers</th>\n",
       "      <th>num_following</th>\n",
       "      <th>time_created</th>\n",
       "      <th>invited_by_user_profile</th>\n",
       "      <th>twitter_count</th>\n",
       "      <th>instagram_count</th>\n",
       "    </tr>\n",
       "  </thead>\n",
       "  <tbody>\n",
       "    <tr>\n",
       "      <th>0</th>\n",
       "      <td>4</td>\n",
       "      <td>Rohan Seth</td>\n",
       "      <td>https://clubhouseprod.s3.amazonaws.com:443/4_b...</td>\n",
       "      <td>rohan</td>\n",
       "      <td>rohanseth</td>\n",
       "      <td>null</td>\n",
       "      <td>4187268</td>\n",
       "      <td>599</td>\n",
       "      <td>2020-03-17</td>\n",
       "      <td>null</td>\n",
       "      <td>1.0</td>\n",
       "      <td>0.0</td>\n",
       "    </tr>\n",
       "    <tr>\n",
       "      <th>1</th>\n",
       "      <td>5</td>\n",
       "      <td>Paul Davison</td>\n",
       "      <td>https://clubhouseprod.s3.amazonaws.com:443/5_e...</td>\n",
       "      <td>paul</td>\n",
       "      <td>pdavison</td>\n",
       "      <td>null</td>\n",
       "      <td>3718334</td>\n",
       "      <td>1861</td>\n",
       "      <td>2020-03-17</td>\n",
       "      <td>null</td>\n",
       "      <td>1.0</td>\n",
       "      <td>0.0</td>\n",
       "    </tr>\n",
       "    <tr>\n",
       "      <th>9002</th>\n",
       "      <td>10298</td>\n",
       "      <td>Clubhouse</td>\n",
       "      <td>https://clubhouseprod.s3.amazonaws.com:443/102...</td>\n",
       "      <td>clubhouse</td>\n",
       "      <td>joinClubhouse</td>\n",
       "      <td>null</td>\n",
       "      <td>18550</td>\n",
       "      <td>0</td>\n",
       "      <td>2020-03-17</td>\n",
       "      <td>null</td>\n",
       "      <td>1.0</td>\n",
       "      <td>0.0</td>\n",
       "    </tr>\n",
       "  </tbody>\n",
       "</table>\n",
       "</div>"
      ],
      "text/plain": [
       "      user_id          name  \\\n",
       "0           4    Rohan Seth   \n",
       "1           5  Paul Davison   \n",
       "9002    10298     Clubhouse   \n",
       "\n",
       "                                              photo_url   username  \\\n",
       "0     https://clubhouseprod.s3.amazonaws.com:443/4_b...      rohan   \n",
       "1     https://clubhouseprod.s3.amazonaws.com:443/5_e...       paul   \n",
       "9002  https://clubhouseprod.s3.amazonaws.com:443/102...  clubhouse   \n",
       "\n",
       "            twitter instagram  num_followers  num_following time_created  \\\n",
       "0         rohanseth      null        4187268            599   2020-03-17   \n",
       "1          pdavison      null        3718334           1861   2020-03-17   \n",
       "9002  joinClubhouse      null          18550              0   2020-03-17   \n",
       "\n",
       "     invited_by_user_profile  twitter_count  instagram_count  \n",
       "0                       null            1.0              0.0  \n",
       "1                       null            1.0              0.0  \n",
       "9002                    null            1.0              0.0  "
      ]
     },
     "execution_count": 13,
     "metadata": {},
     "output_type": "execute_result"
    }
   ],
   "source": [
    "data[data['time_created'] == '2020-03-17']"
   ]
  },
  {
   "cell_type": "code",
   "execution_count": 14,
   "id": "alleged-telephone",
   "metadata": {
    "execution": {
     "iopub.execute_input": "2021-04-18T17:16:36.977527Z",
     "iopub.status.busy": "2021-04-18T17:16:36.851331Z",
     "iopub.status.idle": "2021-04-18T17:16:36.993583Z",
     "shell.execute_reply": "2021-04-18T17:16:36.992924Z"
    },
    "papermill": {
     "duration": 0.40025,
     "end_time": "2021-04-18T17:16:36.993722",
     "exception": false,
     "start_time": "2021-04-18T17:16:36.593472",
     "status": "completed"
    },
    "tags": []
   },
   "outputs": [
    {
     "data": {
      "text/html": [
       "<div>\n",
       "<style scoped>\n",
       "    .dataframe tbody tr th:only-of-type {\n",
       "        vertical-align: middle;\n",
       "    }\n",
       "\n",
       "    .dataframe tbody tr th {\n",
       "        vertical-align: top;\n",
       "    }\n",
       "\n",
       "    .dataframe thead th {\n",
       "        text-align: right;\n",
       "    }\n",
       "</style>\n",
       "<table border=\"1\" class=\"dataframe\">\n",
       "  <thead>\n",
       "    <tr style=\"text-align: right;\">\n",
       "      <th></th>\n",
       "      <th>Time</th>\n",
       "      <th>Count</th>\n",
       "    </tr>\n",
       "  </thead>\n",
       "  <tbody>\n",
       "    <tr>\n",
       "      <th>0</th>\n",
       "      <td>2020-12-30</td>\n",
       "      <td>73862</td>\n",
       "    </tr>\n",
       "    <tr>\n",
       "      <th>1</th>\n",
       "      <td>2020-12-29</td>\n",
       "      <td>69506</td>\n",
       "    </tr>\n",
       "    <tr>\n",
       "      <th>2</th>\n",
       "      <td>2020-12-23</td>\n",
       "      <td>58500</td>\n",
       "    </tr>\n",
       "    <tr>\n",
       "      <th>3</th>\n",
       "      <td>2020-12-28</td>\n",
       "      <td>55535</td>\n",
       "    </tr>\n",
       "    <tr>\n",
       "      <th>4</th>\n",
       "      <td>2020-12-31</td>\n",
       "      <td>55330</td>\n",
       "    </tr>\n",
       "    <tr>\n",
       "      <th>...</th>\n",
       "      <td>...</td>\n",
       "      <td>...</td>\n",
       "    </tr>\n",
       "    <tr>\n",
       "      <th>379</th>\n",
       "      <td>2020-03-17</td>\n",
       "      <td>3</td>\n",
       "    </tr>\n",
       "    <tr>\n",
       "      <th>380</th>\n",
       "      <td>2020-03-28</td>\n",
       "      <td>2</td>\n",
       "    </tr>\n",
       "    <tr>\n",
       "      <th>381</th>\n",
       "      <td>2020-03-20</td>\n",
       "      <td>2</td>\n",
       "    </tr>\n",
       "    <tr>\n",
       "      <th>382</th>\n",
       "      <td>2020-03-19</td>\n",
       "      <td>2</td>\n",
       "    </tr>\n",
       "    <tr>\n",
       "      <th>383</th>\n",
       "      <td>2020-03-29</td>\n",
       "      <td>2</td>\n",
       "    </tr>\n",
       "  </tbody>\n",
       "</table>\n",
       "<p>384 rows × 2 columns</p>\n",
       "</div>"
      ],
      "text/plain": [
       "           Time  Count\n",
       "0    2020-12-30  73862\n",
       "1    2020-12-29  69506\n",
       "2    2020-12-23  58500\n",
       "3    2020-12-28  55535\n",
       "4    2020-12-31  55330\n",
       "..          ...    ...\n",
       "379  2020-03-17      3\n",
       "380  2020-03-28      2\n",
       "381  2020-03-20      2\n",
       "382  2020-03-19      2\n",
       "383  2020-03-29      2\n",
       "\n",
       "[384 rows x 2 columns]"
      ]
     },
     "execution_count": 14,
     "metadata": {},
     "output_type": "execute_result"
    }
   ],
   "source": [
    "timeReportData = data['time_created'].value_counts()\n",
    "type(timeReportData)\n",
    "type(timeReportData),timeReportData\n",
    "timeReportData = pd.DataFrame({'Time':timeReportData.to_frame().index, 'Count':timeReportData.to_frame().time_created},index=None)\n",
    "timeReportData\n",
    "timeReportData.reset_index(drop=True, inplace=True)\n",
    "timeReportData"
   ]
  },
  {
   "cell_type": "code",
   "execution_count": null,
   "id": "continuous-button",
   "metadata": {
    "papermill": {
     "duration": 0.027062,
     "end_time": "2021-04-18T17:16:37.048322",
     "exception": false,
     "start_time": "2021-04-18T17:16:37.021260",
     "status": "completed"
    },
    "tags": []
   },
   "outputs": [],
   "source": []
  },
  {
   "cell_type": "code",
   "execution_count": 15,
   "id": "found-symposium",
   "metadata": {
    "execution": {
     "iopub.execute_input": "2021-04-18T17:16:37.109718Z",
     "iopub.status.busy": "2021-04-18T17:16:37.109069Z",
     "iopub.status.idle": "2021-04-18T17:16:37.114208Z",
     "shell.execute_reply": "2021-04-18T17:16:37.113558Z"
    },
    "papermill": {
     "duration": 0.039014,
     "end_time": "2021-04-18T17:16:37.114364",
     "exception": false,
     "start_time": "2021-04-18T17:16:37.075350",
     "status": "completed"
    },
    "tags": []
   },
   "outputs": [
    {
     "data": {
      "text/plain": [
       "0      2020-12-30\n",
       "1      2020-12-29\n",
       "2      2020-12-23\n",
       "3      2020-12-28\n",
       "4      2020-12-31\n",
       "          ...    \n",
       "379    2020-03-17\n",
       "380    2020-03-28\n",
       "381    2020-03-20\n",
       "382    2020-03-19\n",
       "383    2020-03-29\n",
       "Name: Time, Length: 384, dtype: object"
      ]
     },
     "execution_count": 15,
     "metadata": {},
     "output_type": "execute_result"
    }
   ],
   "source": [
    "timeReportData['Time']"
   ]
  },
  {
   "cell_type": "raw",
   "id": "major-printer",
   "metadata": {
    "papermill": {
     "duration": 0.027067,
     "end_time": "2021-04-18T17:16:37.168987",
     "exception": false,
     "start_time": "2021-04-18T17:16:37.141920",
     "status": "completed"
    },
    "tags": []
   },
   "source": [
    "fig = plt.figure(figsize=(20,20))\n",
    "plt.scatter(x=timeReportData['Time'], y=timeReportData['Count'])\n",
    "plt.xlabel('Zaman')\n",
    "plt.ylabel('Toplam üye sayısı')\n",
    "##plt.xticks(rotation=90)\n",
    "plt.xticks(np.arange(1, len(timeReportData), step=10),rotation=90)\n",
    "plt.xlim(2)\n",
    "\n",
    "plt.show()"
   ]
  },
  {
   "cell_type": "code",
   "execution_count": 16,
   "id": "assured-listening",
   "metadata": {
    "execution": {
     "iopub.execute_input": "2021-04-18T17:16:37.231228Z",
     "iopub.status.busy": "2021-04-18T17:16:37.230561Z",
     "iopub.status.idle": "2021-04-18T17:16:39.830235Z",
     "shell.execute_reply": "2021-04-18T17:16:39.830746Z"
    },
    "papermill": {
     "duration": 2.633979,
     "end_time": "2021-04-18T17:16:39.830921",
     "exception": false,
     "start_time": "2021-04-18T17:16:37.196942",
     "status": "completed"
    },
    "tags": []
   },
   "outputs": [],
   "source": [
    "top10mostfollowed = data.sort_values(by=['num_followers'],ascending=False).head(10)"
   ]
  },
  {
   "cell_type": "code",
   "execution_count": 17,
   "id": "stable-dependence",
   "metadata": {
    "execution": {
     "iopub.execute_input": "2021-04-18T17:16:39.909214Z",
     "iopub.status.busy": "2021-04-18T17:16:39.908424Z",
     "iopub.status.idle": "2021-04-18T17:16:39.913733Z",
     "shell.execute_reply": "2021-04-18T17:16:39.913080Z"
    },
    "papermill": {
     "duration": 0.054949,
     "end_time": "2021-04-18T17:16:39.913873",
     "exception": false,
     "start_time": "2021-04-18T17:16:39.858924",
     "status": "completed"
    },
    "tags": []
   },
   "outputs": [
    {
     "data": {
      "text/html": [
       "<div>\n",
       "<style scoped>\n",
       "    .dataframe tbody tr th:only-of-type {\n",
       "        vertical-align: middle;\n",
       "    }\n",
       "\n",
       "    .dataframe tbody tr th {\n",
       "        vertical-align: top;\n",
       "    }\n",
       "\n",
       "    .dataframe thead th {\n",
       "        text-align: right;\n",
       "    }\n",
       "</style>\n",
       "<table border=\"1\" class=\"dataframe\">\n",
       "  <thead>\n",
       "    <tr style=\"text-align: right;\">\n",
       "      <th></th>\n",
       "      <th>user_id</th>\n",
       "      <th>name</th>\n",
       "      <th>photo_url</th>\n",
       "      <th>username</th>\n",
       "      <th>twitter</th>\n",
       "      <th>instagram</th>\n",
       "      <th>num_followers</th>\n",
       "      <th>num_following</th>\n",
       "      <th>time_created</th>\n",
       "      <th>invited_by_user_profile</th>\n",
       "      <th>twitter_count</th>\n",
       "      <th>instagram_count</th>\n",
       "    </tr>\n",
       "  </thead>\n",
       "  <tbody>\n",
       "    <tr>\n",
       "      <th>0</th>\n",
       "      <td>4</td>\n",
       "      <td>Rohan Seth</td>\n",
       "      <td>https://clubhouseprod.s3.amazonaws.com:443/4_b...</td>\n",
       "      <td>rohan</td>\n",
       "      <td>rohanseth</td>\n",
       "      <td>null</td>\n",
       "      <td>4187268</td>\n",
       "      <td>599</td>\n",
       "      <td>2020-03-17</td>\n",
       "      <td>null</td>\n",
       "      <td>1.0</td>\n",
       "      <td>0.0</td>\n",
       "    </tr>\n",
       "    <tr>\n",
       "      <th>796</th>\n",
       "      <td>977</td>\n",
       "      <td>Marc Andreessen</td>\n",
       "      <td>https://clubhouseprod.s3.amazonaws.com:443/977...</td>\n",
       "      <td>pmarca</td>\n",
       "      <td>pmarca</td>\n",
       "      <td>null</td>\n",
       "      <td>3749921</td>\n",
       "      <td>920</td>\n",
       "      <td>2020-04-23</td>\n",
       "      <td>null</td>\n",
       "      <td>1.0</td>\n",
       "      <td>0.0</td>\n",
       "    </tr>\n",
       "    <tr>\n",
       "      <th>1</th>\n",
       "      <td>5</td>\n",
       "      <td>Paul Davison</td>\n",
       "      <td>https://clubhouseprod.s3.amazonaws.com:443/5_e...</td>\n",
       "      <td>paul</td>\n",
       "      <td>pdavison</td>\n",
       "      <td>null</td>\n",
       "      <td>3718334</td>\n",
       "      <td>1861</td>\n",
       "      <td>2020-03-17</td>\n",
       "      <td>null</td>\n",
       "      <td>1.0</td>\n",
       "      <td>0.0</td>\n",
       "    </tr>\n",
       "    <tr>\n",
       "      <th>750</th>\n",
       "      <td>904</td>\n",
       "      <td>Jared Leto</td>\n",
       "      <td>https://clubhouseprod.s3.amazonaws.com:443/904...</td>\n",
       "      <td>jaredleto</td>\n",
       "      <td>null</td>\n",
       "      <td>null</td>\n",
       "      <td>3715696</td>\n",
       "      <td>106</td>\n",
       "      <td>2020-04-21</td>\n",
       "      <td>null</td>\n",
       "      <td>0.0</td>\n",
       "      <td>0.0</td>\n",
       "    </tr>\n",
       "    <tr>\n",
       "      <th>729</th>\n",
       "      <td>881</td>\n",
       "      <td>🆑 Chris Lyons</td>\n",
       "      <td>https://clubhouseprod.s3.amazonaws.com:443/881...</td>\n",
       "      <td>chrislyons</td>\n",
       "      <td>ChrisLyons</td>\n",
       "      <td>chrislyons</td>\n",
       "      <td>3700203</td>\n",
       "      <td>365</td>\n",
       "      <td>2020-04-21</td>\n",
       "      <td>null</td>\n",
       "      <td>1.0</td>\n",
       "      <td>1.0</td>\n",
       "    </tr>\n",
       "    <tr>\n",
       "      <th>1419</th>\n",
       "      <td>1908</td>\n",
       "      <td>Tiffany Haddish</td>\n",
       "      <td>https://clubhouseprod.s3.amazonaws.com:443/190...</td>\n",
       "      <td>tiffanyhaddish1</td>\n",
       "      <td>TiffanyHaddish</td>\n",
       "      <td>tiffanyhaddish</td>\n",
       "      <td>3586951</td>\n",
       "      <td>1019</td>\n",
       "      <td>2020-05-16</td>\n",
       "      <td>881</td>\n",
       "      <td>1.0</td>\n",
       "      <td>1.0</td>\n",
       "    </tr>\n",
       "    <tr>\n",
       "      <th>1437</th>\n",
       "      <td>1940</td>\n",
       "      <td>Felicia Horowitz</td>\n",
       "      <td>https://clubhouseprod.s3.amazonaws.com:443/194...</td>\n",
       "      <td>feliciahorowitz</td>\n",
       "      <td>null</td>\n",
       "      <td>null</td>\n",
       "      <td>3465827</td>\n",
       "      <td>324</td>\n",
       "      <td>2020-05-17</td>\n",
       "      <td>null</td>\n",
       "      <td>0.0</td>\n",
       "      <td>0.0</td>\n",
       "    </tr>\n",
       "    <tr>\n",
       "      <th>3392</th>\n",
       "      <td>4588</td>\n",
       "      <td>Bomani X</td>\n",
       "      <td>https://clubhouseprod.s3.amazonaws.com:443/458...</td>\n",
       "      <td>iambomanix</td>\n",
       "      <td>iambomanix</td>\n",
       "      <td>iambomanix</td>\n",
       "      <td>3197026</td>\n",
       "      <td>1736</td>\n",
       "      <td>2020-07-05</td>\n",
       "      <td>null</td>\n",
       "      <td>1.0</td>\n",
       "      <td>1.0</td>\n",
       "    </tr>\n",
       "    <tr>\n",
       "      <th>774</th>\n",
       "      <td>946</td>\n",
       "      <td>Scooter</td>\n",
       "      <td>https://clubhouseprod.s3.amazonaws.com:443/946...</td>\n",
       "      <td>scooter</td>\n",
       "      <td>scooterbraun</td>\n",
       "      <td>scooterbraun</td>\n",
       "      <td>3123202</td>\n",
       "      <td>221</td>\n",
       "      <td>2020-04-22</td>\n",
       "      <td>null</td>\n",
       "      <td>1.0</td>\n",
       "      <td>1.0</td>\n",
       "    </tr>\n",
       "    <tr>\n",
       "      <th>1492</th>\n",
       "      <td>2021</td>\n",
       "      <td>Van Jones</td>\n",
       "      <td>https://clubhouseprod.s3.amazonaws.com:443/202...</td>\n",
       "      <td>van</td>\n",
       "      <td>null</td>\n",
       "      <td>null</td>\n",
       "      <td>3049558</td>\n",
       "      <td>342</td>\n",
       "      <td>2020-05-19</td>\n",
       "      <td>104</td>\n",
       "      <td>0.0</td>\n",
       "      <td>0.0</td>\n",
       "    </tr>\n",
       "  </tbody>\n",
       "</table>\n",
       "</div>"
      ],
      "text/plain": [
       "      user_id              name  \\\n",
       "0           4        Rohan Seth   \n",
       "796       977   Marc Andreessen   \n",
       "1           5      Paul Davison   \n",
       "750       904        Jared Leto   \n",
       "729       881     🆑 Chris Lyons   \n",
       "1419     1908   Tiffany Haddish   \n",
       "1437     1940  Felicia Horowitz   \n",
       "3392     4588          Bomani X   \n",
       "774       946           Scooter   \n",
       "1492     2021         Van Jones   \n",
       "\n",
       "                                              photo_url         username  \\\n",
       "0     https://clubhouseprod.s3.amazonaws.com:443/4_b...            rohan   \n",
       "796   https://clubhouseprod.s3.amazonaws.com:443/977...           pmarca   \n",
       "1     https://clubhouseprod.s3.amazonaws.com:443/5_e...             paul   \n",
       "750   https://clubhouseprod.s3.amazonaws.com:443/904...        jaredleto   \n",
       "729   https://clubhouseprod.s3.amazonaws.com:443/881...       chrislyons   \n",
       "1419  https://clubhouseprod.s3.amazonaws.com:443/190...  tiffanyhaddish1   \n",
       "1437  https://clubhouseprod.s3.amazonaws.com:443/194...  feliciahorowitz   \n",
       "3392  https://clubhouseprod.s3.amazonaws.com:443/458...       iambomanix   \n",
       "774   https://clubhouseprod.s3.amazonaws.com:443/946...          scooter   \n",
       "1492  https://clubhouseprod.s3.amazonaws.com:443/202...              van   \n",
       "\n",
       "             twitter       instagram  num_followers  num_following  \\\n",
       "0          rohanseth            null        4187268            599   \n",
       "796           pmarca            null        3749921            920   \n",
       "1           pdavison            null        3718334           1861   \n",
       "750             null            null        3715696            106   \n",
       "729       ChrisLyons      chrislyons        3700203            365   \n",
       "1419  TiffanyHaddish  tiffanyhaddish        3586951           1019   \n",
       "1437            null            null        3465827            324   \n",
       "3392      iambomanix      iambomanix        3197026           1736   \n",
       "774     scooterbraun    scooterbraun        3123202            221   \n",
       "1492            null            null        3049558            342   \n",
       "\n",
       "     time_created invited_by_user_profile  twitter_count  instagram_count  \n",
       "0      2020-03-17                    null            1.0              0.0  \n",
       "796    2020-04-23                    null            1.0              0.0  \n",
       "1      2020-03-17                    null            1.0              0.0  \n",
       "750    2020-04-21                    null            0.0              0.0  \n",
       "729    2020-04-21                    null            1.0              1.0  \n",
       "1419   2020-05-16                     881            1.0              1.0  \n",
       "1437   2020-05-17                    null            0.0              0.0  \n",
       "3392   2020-07-05                    null            1.0              1.0  \n",
       "774    2020-04-22                    null            1.0              1.0  \n",
       "1492   2020-05-19                     104            0.0              0.0  "
      ]
     },
     "execution_count": 17,
     "metadata": {},
     "output_type": "execute_result"
    }
   ],
   "source": [
    "top10mostfollowed"
   ]
  },
  {
   "cell_type": "code",
   "execution_count": 18,
   "id": "choice-wrestling",
   "metadata": {
    "execution": {
     "iopub.execute_input": "2021-04-18T17:16:39.990285Z",
     "iopub.status.busy": "2021-04-18T17:16:39.982942Z",
     "iopub.status.idle": "2021-04-18T17:16:40.187983Z",
     "shell.execute_reply": "2021-04-18T17:16:40.188479Z"
    },
    "papermill": {
     "duration": 0.24635,
     "end_time": "2021-04-18T17:16:40.188696",
     "exception": false,
     "start_time": "2021-04-18T17:16:39.942346",
     "status": "completed"
    },
    "tags": []
   },
   "outputs": [
    {
     "data": {
      "image/png": "[encoded data removed]",
      "text/plain": [
       "<Figure size 432x288 with 1 Axes>"
      ]
     },
     "metadata": {
      "needs_background": "light"
     },
     "output_type": "display_data"
    }
   ],
   "source": [
    "topfollowedchart = sns.barplot(y= top10mostfollowed['num_followers'],x=top10mostfollowed['username'],palette=\"Blues_d\").set_xticklabels(top10mostfollowed['username'], rotation=90);"
   ]
  },
  {
   "cell_type": "code",
   "execution_count": 19,
   "id": "protected-builder",
   "metadata": {
    "execution": {
     "iopub.execute_input": "2021-04-18T17:16:40.252806Z",
     "iopub.status.busy": "2021-04-18T17:16:40.252040Z",
     "iopub.status.idle": "2021-04-18T17:16:40.626844Z",
     "shell.execute_reply": "2021-04-18T17:16:40.626327Z"
    },
    "papermill": {
     "duration": 0.408037,
     "end_time": "2021-04-18T17:16:40.627006",
     "exception": false,
     "start_time": "2021-04-18T17:16:40.218969",
     "status": "completed"
    },
    "tags": []
   },
   "outputs": [
    {
     "data": {
      "image/png": "[encoded data removed]",
      "text/plain": [
       "<Figure size 432x288 with 1 Axes>"
      ]
     },
     "metadata": {
      "needs_background": "light"
     },
     "output_type": "display_data"
    }
   ],
   "source": [
    " ax = sns.barplot(x=\"num_followers\", y=\"username\", hue=\"twitter_count\", data=top10mostfollowed)"
   ]
  },
  {
   "cell_type": "code",
   "execution_count": null,
   "id": "ethical-question",
   "metadata": {
    "papermill": {
     "duration": 0.030162,
     "end_time": "2021-04-18T17:16:40.687950",
     "exception": false,
     "start_time": "2021-04-18T17:16:40.657788",
     "status": "completed"
    },
    "tags": []
   },
   "outputs": [],
   "source": []
  }
 ],
 "metadata": {
  "kernelspec": {
   "display_name": "Python 3",
   "language": "python",
   "name": "python3"
  },
  "language_info": {
   "codemirror_mode": {
    "name": "ipython",
    "version": 3
   },
   "file_extension": ".py",
   "mimetype": "text/x-python",
   "name": "python",
   "nbconvert_exporter": "python",
   "pygments_lexer": "ipython3",
   "version": "3.7.9"
  },
  "papermill": {
   "default_parameters": {},
   "duration": 43.947774,
   "end_time": "2021-04-18T17:16:42.937531",
   "environment_variables": {},
   "exception": null,
   "input_path": "__notebook__.ipynb",
   "output_path": "__notebook__.ipynb",
   "parameters": {},
   "start_time": "2021-04-18T17:15:58.989757",
   "version": "2.3.2"
  }
 },
 "nbformat": 4,
 "nbformat_minor": 5
}
