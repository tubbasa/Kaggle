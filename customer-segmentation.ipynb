{
 "cells": [
  {
   "cell_type": "code",
   "execution_count": 1,
   "id": "palestinian-drink",
   "metadata": {
    "_cell_guid": "b1076dfc-b9ad-4769-8c92-a6c4dae69d19",
    "_uuid": "8f2839f25d086af736a60e9eeb907d3b93b6e0e5",
    "execution": {
     "iopub.execute_input": "2021-04-18T07:13:17.748879Z",
     "iopub.status.busy": "2021-04-18T07:13:17.747743Z",
     "iopub.status.idle": "2021-04-18T07:13:20.106927Z",
     "shell.execute_reply": "2021-04-18T07:13:20.105603Z"
    },
    "papermill": {
     "duration": 2.412659,
     "end_time": "2021-04-18T07:13:20.107173",
     "exception": false,
     "start_time": "2021-04-18T07:13:17.694514",
     "status": "completed"
    },
    "tags": []
   },
   "outputs": [
    {
     "name": "stdout",
     "output_type": "stream",
     "text": [
      "/kaggle/input/customer/sample_submission.csv\n",
      "/kaggle/input/customer/Train.csv\n",
      "/kaggle/input/customer/Test.csv\n"
     ]
    }
   ],
   "source": [
    "# This Python 3 environment comes with many helpful analytics libraries installed\n",
    "# It is defined by the kaggle/python Docker image: https://github.com/kaggle/docker-python\n",
    "# For example, here's several helpful packages to load\n",
    "\n",
    "import numpy as np # linear algebra\n",
    "import pandas as pd # data processing, CSV file I/O (e.g. pd.read_csv)\n",
    "from sklearn.preprocessing import LabelEncoder\n",
    "from sklearn.model_selection import train_test_split\n",
    "from sklearn.ensemble import RandomForestRegressor\n",
    "from sklearn import metrics\n",
    "\n",
    "# Input data files are available in the read-only \"../input/\" directory\n",
    "# For example, running this (by clicking run or pressing Shift+Enter) will list all files under the input directory\n",
    "\n",
    "import os\n",
    "for dirname, _, filenames in os.walk('/kaggle/input'):\n",
    "    for filename in filenames:\n",
    "        print(os.path.join(dirname, filename))\n",
    "\n",
    "# You can write up to 20GB to the current directory (/kaggle/working/) that gets preserved as output when you create a version using \"Save & Run All\" \n",
    "# You can also write temporary files to /kaggle/temp/, but they won't be saved outside of the current session\n",
    "\n",
    "#df = pd.read_csv('')"
   ]
  },
  {
   "cell_type": "code",
   "execution_count": 2,
   "id": "piano-portrait",
   "metadata": {
    "execution": {
     "iopub.execute_input": "2021-04-18T07:13:20.205679Z",
     "iopub.status.busy": "2021-04-18T07:13:20.205003Z",
     "iopub.status.idle": "2021-04-18T07:13:20.279029Z",
     "shell.execute_reply": "2021-04-18T07:13:20.279526Z"
    },
    "papermill": {
     "duration": 0.126453,
     "end_time": "2021-04-18T07:13:20.279745",
     "exception": false,
     "start_time": "2021-04-18T07:13:20.153292",
     "status": "completed"
    },
    "tags": []
   },
   "outputs": [],
   "source": [
    "trainDf = pd.read_csv('/kaggle/input/customer/Train.csv')\n",
    "testDf = pd.read_csv('/kaggle/input/customer/Test.csv')\n",
    "sampleSubDf = pd.read_csv('/kaggle/input/customer/sample_submission.csv')"
   ]
  },
  {
   "cell_type": "markdown",
   "id": "level-converter",
   "metadata": {
    "papermill": {
     "duration": 0.028319,
     "end_time": "2021-04-18T07:13:20.336549",
     "exception": false,
     "start_time": "2021-04-18T07:13:20.308230",
     "status": "completed"
    },
    "tags": []
   },
   "source": []
  },
  {
   "cell_type": "markdown",
   "id": "occupied-webster",
   "metadata": {
    "papermill": {
     "duration": 0.028217,
     "end_time": "2021-04-18T07:13:20.395050",
     "exception": false,
     "start_time": "2021-04-18T07:13:20.366833",
     "status": "completed"
    },
    "tags": []
   },
   "source": []
  },
  {
   "cell_type": "code",
   "execution_count": 3,
   "id": "improving-bernard",
   "metadata": {
    "execution": {
     "iopub.execute_input": "2021-04-18T07:13:20.480046Z",
     "iopub.status.busy": "2021-04-18T07:13:20.467681Z",
     "iopub.status.idle": "2021-04-18T07:13:20.514205Z",
     "shell.execute_reply": "2021-04-18T07:13:20.513310Z"
    },
    "papermill": {
     "duration": 0.090387,
     "end_time": "2021-04-18T07:13:20.514382",
     "exception": false,
     "start_time": "2021-04-18T07:13:20.423995",
     "status": "completed"
    },
    "tags": []
   },
   "outputs": [
    {
     "data": {
      "text/html": [
       "<div>\n",
       "<style scoped>\n",
       "    .dataframe tbody tr th:only-of-type {\n",
       "        vertical-align: middle;\n",
       "    }\n",
       "\n",
       "    .dataframe tbody tr th {\n",
       "        vertical-align: top;\n",
       "    }\n",
       "\n",
       "    .dataframe thead th {\n",
       "        text-align: right;\n",
       "    }\n",
       "</style>\n",
       "<table border=\"1\" class=\"dataframe\">\n",
       "  <thead>\n",
       "    <tr style=\"text-align: right;\">\n",
       "      <th></th>\n",
       "      <th>ID</th>\n",
       "      <th>Gender</th>\n",
       "      <th>Ever_Married</th>\n",
       "      <th>Age</th>\n",
       "      <th>Graduated</th>\n",
       "      <th>Profession</th>\n",
       "      <th>Work_Experience</th>\n",
       "      <th>Spending_Score</th>\n",
       "      <th>Family_Size</th>\n",
       "      <th>Var_1</th>\n",
       "      <th>Segmentation</th>\n",
       "    </tr>\n",
       "  </thead>\n",
       "  <tbody>\n",
       "    <tr>\n",
       "      <th>174</th>\n",
       "      <td>458987</td>\n",
       "      <td>Female</td>\n",
       "      <td>Yes</td>\n",
       "      <td>72</td>\n",
       "      <td>Yes</td>\n",
       "      <td>Lawyer</td>\n",
       "      <td>0.0</td>\n",
       "      <td>High</td>\n",
       "      <td>2.0</td>\n",
       "      <td>Cat_6</td>\n",
       "      <td>C</td>\n",
       "    </tr>\n",
       "    <tr>\n",
       "      <th>43</th>\n",
       "      <td>466006</td>\n",
       "      <td>Female</td>\n",
       "      <td>Yes</td>\n",
       "      <td>49</td>\n",
       "      <td>Yes</td>\n",
       "      <td>Artist</td>\n",
       "      <td>1.0</td>\n",
       "      <td>Low</td>\n",
       "      <td>2.0</td>\n",
       "      <td>NaN</td>\n",
       "      <td>C</td>\n",
       "    </tr>\n",
       "    <tr>\n",
       "      <th>4039</th>\n",
       "      <td>459432</td>\n",
       "      <td>Male</td>\n",
       "      <td>Yes</td>\n",
       "      <td>84</td>\n",
       "      <td>Yes</td>\n",
       "      <td>Lawyer</td>\n",
       "      <td>0.0</td>\n",
       "      <td>Low</td>\n",
       "      <td>3.0</td>\n",
       "      <td>Cat_6</td>\n",
       "      <td>A</td>\n",
       "    </tr>\n",
       "    <tr>\n",
       "      <th>7498</th>\n",
       "      <td>466076</td>\n",
       "      <td>Male</td>\n",
       "      <td>No</td>\n",
       "      <td>19</td>\n",
       "      <td>No</td>\n",
       "      <td>Healthcare</td>\n",
       "      <td>8.0</td>\n",
       "      <td>Low</td>\n",
       "      <td>3.0</td>\n",
       "      <td>Cat_6</td>\n",
       "      <td>D</td>\n",
       "    </tr>\n",
       "    <tr>\n",
       "      <th>309</th>\n",
       "      <td>464763</td>\n",
       "      <td>Female</td>\n",
       "      <td>Yes</td>\n",
       "      <td>49</td>\n",
       "      <td>No</td>\n",
       "      <td>Engineer</td>\n",
       "      <td>NaN</td>\n",
       "      <td>Average</td>\n",
       "      <td>4.0</td>\n",
       "      <td>Cat_4</td>\n",
       "      <td>B</td>\n",
       "    </tr>\n",
       "  </tbody>\n",
       "</table>\n",
       "</div>"
      ],
      "text/plain": [
       "          ID  Gender Ever_Married  Age Graduated  Profession  Work_Experience  \\\n",
       "174   458987  Female          Yes   72       Yes      Lawyer              0.0   \n",
       "43    466006  Female          Yes   49       Yes      Artist              1.0   \n",
       "4039  459432    Male          Yes   84       Yes      Lawyer              0.0   \n",
       "7498  466076    Male           No   19        No  Healthcare              8.0   \n",
       "309   464763  Female          Yes   49        No    Engineer              NaN   \n",
       "\n",
       "     Spending_Score  Family_Size  Var_1 Segmentation  \n",
       "174            High          2.0  Cat_6            C  \n",
       "43              Low          2.0    NaN            C  \n",
       "4039            Low          3.0  Cat_6            A  \n",
       "7498            Low          3.0  Cat_6            D  \n",
       "309         Average          4.0  Cat_4            B  "
      ]
     },
     "execution_count": 3,
     "metadata": {},
     "output_type": "execute_result"
    }
   ],
   "source": [
    "trainDf.sample(5)\n",
    "#target column is Segmentation"
   ]
  },
  {
   "cell_type": "code",
   "execution_count": 4,
   "id": "detailed-comparative",
   "metadata": {
    "execution": {
     "iopub.execute_input": "2021-04-18T07:13:20.633282Z",
     "iopub.status.busy": "2021-04-18T07:13:20.632203Z",
     "iopub.status.idle": "2021-04-18T07:13:20.643155Z",
     "shell.execute_reply": "2021-04-18T07:13:20.642291Z"
    },
    "papermill": {
     "duration": 0.082369,
     "end_time": "2021-04-18T07:13:20.643337",
     "exception": false,
     "start_time": "2021-04-18T07:13:20.560968",
     "status": "completed"
    },
    "tags": []
   },
   "outputs": [
    {
     "data": {
      "text/html": [
       "<div>\n",
       "<style scoped>\n",
       "    .dataframe tbody tr th:only-of-type {\n",
       "        vertical-align: middle;\n",
       "    }\n",
       "\n",
       "    .dataframe tbody tr th {\n",
       "        vertical-align: top;\n",
       "    }\n",
       "\n",
       "    .dataframe thead th {\n",
       "        text-align: right;\n",
       "    }\n",
       "</style>\n",
       "<table border=\"1\" class=\"dataframe\">\n",
       "  <thead>\n",
       "    <tr style=\"text-align: right;\">\n",
       "      <th></th>\n",
       "      <th>ID</th>\n",
       "      <th>Gender</th>\n",
       "      <th>Ever_Married</th>\n",
       "      <th>Age</th>\n",
       "      <th>Graduated</th>\n",
       "      <th>Profession</th>\n",
       "      <th>Work_Experience</th>\n",
       "      <th>Spending_Score</th>\n",
       "      <th>Family_Size</th>\n",
       "      <th>Var_1</th>\n",
       "    </tr>\n",
       "  </thead>\n",
       "  <tbody>\n",
       "    <tr>\n",
       "      <th>340</th>\n",
       "      <td>460108</td>\n",
       "      <td>Male</td>\n",
       "      <td>Yes</td>\n",
       "      <td>39</td>\n",
       "      <td>Yes</td>\n",
       "      <td>Artist</td>\n",
       "      <td>1.0</td>\n",
       "      <td>Average</td>\n",
       "      <td>3.0</td>\n",
       "      <td>Cat_2</td>\n",
       "    </tr>\n",
       "    <tr>\n",
       "      <th>1683</th>\n",
       "      <td>464728</td>\n",
       "      <td>Male</td>\n",
       "      <td>Yes</td>\n",
       "      <td>51</td>\n",
       "      <td>No</td>\n",
       "      <td>Entertainment</td>\n",
       "      <td>0.0</td>\n",
       "      <td>High</td>\n",
       "      <td>4.0</td>\n",
       "      <td>Cat_4</td>\n",
       "    </tr>\n",
       "    <tr>\n",
       "      <th>2019</th>\n",
       "      <td>465865</td>\n",
       "      <td>Female</td>\n",
       "      <td>No</td>\n",
       "      <td>41</td>\n",
       "      <td>Yes</td>\n",
       "      <td>Healthcare</td>\n",
       "      <td>9.0</td>\n",
       "      <td>Low</td>\n",
       "      <td>1.0</td>\n",
       "      <td>Cat_6</td>\n",
       "    </tr>\n",
       "    <tr>\n",
       "      <th>426</th>\n",
       "      <td>460378</td>\n",
       "      <td>Female</td>\n",
       "      <td>No</td>\n",
       "      <td>37</td>\n",
       "      <td>Yes</td>\n",
       "      <td>Doctor</td>\n",
       "      <td>1.0</td>\n",
       "      <td>Low</td>\n",
       "      <td>1.0</td>\n",
       "      <td>Cat_6</td>\n",
       "    </tr>\n",
       "    <tr>\n",
       "      <th>305</th>\n",
       "      <td>459996</td>\n",
       "      <td>Male</td>\n",
       "      <td>No</td>\n",
       "      <td>55</td>\n",
       "      <td>Yes</td>\n",
       "      <td>Entertainment</td>\n",
       "      <td>1.0</td>\n",
       "      <td>Low</td>\n",
       "      <td>1.0</td>\n",
       "      <td>Cat_6</td>\n",
       "    </tr>\n",
       "  </tbody>\n",
       "</table>\n",
       "</div>"
      ],
      "text/plain": [
       "          ID  Gender Ever_Married  Age Graduated     Profession  \\\n",
       "340   460108    Male          Yes   39       Yes         Artist   \n",
       "1683  464728    Male          Yes   51        No  Entertainment   \n",
       "2019  465865  Female           No   41       Yes     Healthcare   \n",
       "426   460378  Female           No   37       Yes         Doctor   \n",
       "305   459996    Male           No   55       Yes  Entertainment   \n",
       "\n",
       "      Work_Experience Spending_Score  Family_Size  Var_1  \n",
       "340               1.0        Average          3.0  Cat_2  \n",
       "1683              0.0           High          4.0  Cat_4  \n",
       "2019              9.0            Low          1.0  Cat_6  \n",
       "426               1.0            Low          1.0  Cat_6  \n",
       "305               1.0            Low          1.0  Cat_6  "
      ]
     },
     "execution_count": 4,
     "metadata": {},
     "output_type": "execute_result"
    }
   ],
   "source": [
    "testDf.sample(5)"
   ]
  },
  {
   "cell_type": "code",
   "execution_count": 5,
   "id": "correct-prompt",
   "metadata": {
    "execution": {
     "iopub.execute_input": "2021-04-18T07:13:20.748761Z",
     "iopub.status.busy": "2021-04-18T07:13:20.747731Z",
     "iopub.status.idle": "2021-04-18T07:13:20.757866Z",
     "shell.execute_reply": "2021-04-18T07:13:20.757047Z"
    },
    "papermill": {
     "duration": 0.06787,
     "end_time": "2021-04-18T07:13:20.758040",
     "exception": false,
     "start_time": "2021-04-18T07:13:20.690170",
     "status": "completed"
    },
    "tags": []
   },
   "outputs": [
    {
     "data": {
      "text/html": [
       "<div>\n",
       "<style scoped>\n",
       "    .dataframe tbody tr th:only-of-type {\n",
       "        vertical-align: middle;\n",
       "    }\n",
       "\n",
       "    .dataframe tbody tr th {\n",
       "        vertical-align: top;\n",
       "    }\n",
       "\n",
       "    .dataframe thead th {\n",
       "        text-align: right;\n",
       "    }\n",
       "</style>\n",
       "<table border=\"1\" class=\"dataframe\">\n",
       "  <thead>\n",
       "    <tr style=\"text-align: right;\">\n",
       "      <th></th>\n",
       "      <th>ID</th>\n",
       "      <th>Segmentation</th>\n",
       "    </tr>\n",
       "  </thead>\n",
       "  <tbody>\n",
       "    <tr>\n",
       "      <th>2494</th>\n",
       "      <td>467511</td>\n",
       "      <td>A</td>\n",
       "    </tr>\n",
       "    <tr>\n",
       "      <th>2184</th>\n",
       "      <td>466418</td>\n",
       "      <td>A</td>\n",
       "    </tr>\n",
       "    <tr>\n",
       "      <th>442</th>\n",
       "      <td>460406</td>\n",
       "      <td>A</td>\n",
       "    </tr>\n",
       "    <tr>\n",
       "      <th>1283</th>\n",
       "      <td>463269</td>\n",
       "      <td>A</td>\n",
       "    </tr>\n",
       "    <tr>\n",
       "      <th>603</th>\n",
       "      <td>460976</td>\n",
       "      <td>A</td>\n",
       "    </tr>\n",
       "  </tbody>\n",
       "</table>\n",
       "</div>"
      ],
      "text/plain": [
       "          ID Segmentation\n",
       "2494  467511            A\n",
       "2184  466418            A\n",
       "442   460406            A\n",
       "1283  463269            A\n",
       "603   460976            A"
      ]
     },
     "execution_count": 5,
     "metadata": {},
     "output_type": "execute_result"
    }
   ],
   "source": [
    "sampleSubDf.sample(5)"
   ]
  },
  {
   "cell_type": "code",
   "execution_count": 6,
   "id": "impaired-milton",
   "metadata": {
    "execution": {
     "iopub.execute_input": "2021-04-18T07:13:20.871013Z",
     "iopub.status.busy": "2021-04-18T07:13:20.869793Z",
     "iopub.status.idle": "2021-04-18T07:13:20.899636Z",
     "shell.execute_reply": "2021-04-18T07:13:20.898683Z"
    },
    "papermill": {
     "duration": 0.093347,
     "end_time": "2021-04-18T07:13:20.899816",
     "exception": false,
     "start_time": "2021-04-18T07:13:20.806469",
     "status": "completed"
    },
    "tags": []
   },
   "outputs": [
    {
     "name": "stdout",
     "output_type": "stream",
     "text": [
      "<class 'pandas.core.frame.DataFrame'>\n",
      "RangeIndex: 8068 entries, 0 to 8067\n",
      "Data columns (total 11 columns):\n",
      " #   Column           Non-Null Count  Dtype  \n",
      "---  ------           --------------  -----  \n",
      " 0   ID               8068 non-null   int64  \n",
      " 1   Gender           8068 non-null   object \n",
      " 2   Ever_Married     7928 non-null   object \n",
      " 3   Age              8068 non-null   int64  \n",
      " 4   Graduated        7990 non-null   object \n",
      " 5   Profession       7944 non-null   object \n",
      " 6   Work_Experience  7239 non-null   float64\n",
      " 7   Spending_Score   8068 non-null   object \n",
      " 8   Family_Size      7733 non-null   float64\n",
      " 9   Var_1            7992 non-null   object \n",
      " 10  Segmentation     8068 non-null   object \n",
      "dtypes: float64(2), int64(2), object(7)\n",
      "memory usage: 693.5+ KB\n"
     ]
    }
   ],
   "source": [
    "trainDf.info()"
   ]
  },
  {
   "cell_type": "code",
   "execution_count": 7,
   "id": "robust-adams",
   "metadata": {
    "execution": {
     "iopub.execute_input": "2021-04-18T07:13:21.004825Z",
     "iopub.status.busy": "2021-04-18T07:13:21.002728Z",
     "iopub.status.idle": "2021-04-18T07:13:21.044142Z",
     "shell.execute_reply": "2021-04-18T07:13:21.043228Z"
    },
    "papermill": {
     "duration": 0.096455,
     "end_time": "2021-04-18T07:13:21.044347",
     "exception": false,
     "start_time": "2021-04-18T07:13:20.947892",
     "status": "completed"
    },
    "tags": []
   },
   "outputs": [
    {
     "data": {
      "text/html": [
       "<div>\n",
       "<style scoped>\n",
       "    .dataframe tbody tr th:only-of-type {\n",
       "        vertical-align: middle;\n",
       "    }\n",
       "\n",
       "    .dataframe tbody tr th {\n",
       "        vertical-align: top;\n",
       "    }\n",
       "\n",
       "    .dataframe thead th {\n",
       "        text-align: right;\n",
       "    }\n",
       "</style>\n",
       "<table border=\"1\" class=\"dataframe\">\n",
       "  <thead>\n",
       "    <tr style=\"text-align: right;\">\n",
       "      <th></th>\n",
       "      <th>ID</th>\n",
       "      <th>Age</th>\n",
       "      <th>Work_Experience</th>\n",
       "      <th>Family_Size</th>\n",
       "    </tr>\n",
       "  </thead>\n",
       "  <tbody>\n",
       "    <tr>\n",
       "      <th>count</th>\n",
       "      <td>8068.000000</td>\n",
       "      <td>8068.000000</td>\n",
       "      <td>7239.000000</td>\n",
       "      <td>7733.000000</td>\n",
       "    </tr>\n",
       "    <tr>\n",
       "      <th>mean</th>\n",
       "      <td>463479.214551</td>\n",
       "      <td>43.466906</td>\n",
       "      <td>2.641663</td>\n",
       "      <td>2.850123</td>\n",
       "    </tr>\n",
       "    <tr>\n",
       "      <th>std</th>\n",
       "      <td>2595.381232</td>\n",
       "      <td>16.711696</td>\n",
       "      <td>3.406763</td>\n",
       "      <td>1.531413</td>\n",
       "    </tr>\n",
       "    <tr>\n",
       "      <th>min</th>\n",
       "      <td>458982.000000</td>\n",
       "      <td>18.000000</td>\n",
       "      <td>0.000000</td>\n",
       "      <td>1.000000</td>\n",
       "    </tr>\n",
       "    <tr>\n",
       "      <th>25%</th>\n",
       "      <td>461240.750000</td>\n",
       "      <td>30.000000</td>\n",
       "      <td>0.000000</td>\n",
       "      <td>2.000000</td>\n",
       "    </tr>\n",
       "    <tr>\n",
       "      <th>50%</th>\n",
       "      <td>463472.500000</td>\n",
       "      <td>40.000000</td>\n",
       "      <td>1.000000</td>\n",
       "      <td>3.000000</td>\n",
       "    </tr>\n",
       "    <tr>\n",
       "      <th>75%</th>\n",
       "      <td>465744.250000</td>\n",
       "      <td>53.000000</td>\n",
       "      <td>4.000000</td>\n",
       "      <td>4.000000</td>\n",
       "    </tr>\n",
       "    <tr>\n",
       "      <th>max</th>\n",
       "      <td>467974.000000</td>\n",
       "      <td>89.000000</td>\n",
       "      <td>14.000000</td>\n",
       "      <td>9.000000</td>\n",
       "    </tr>\n",
       "  </tbody>\n",
       "</table>\n",
       "</div>"
      ],
      "text/plain": [
       "                  ID          Age  Work_Experience  Family_Size\n",
       "count    8068.000000  8068.000000      7239.000000  7733.000000\n",
       "mean   463479.214551    43.466906         2.641663     2.850123\n",
       "std      2595.381232    16.711696         3.406763     1.531413\n",
       "min    458982.000000    18.000000         0.000000     1.000000\n",
       "25%    461240.750000    30.000000         0.000000     2.000000\n",
       "50%    463472.500000    40.000000         1.000000     3.000000\n",
       "75%    465744.250000    53.000000         4.000000     4.000000\n",
       "max    467974.000000    89.000000        14.000000     9.000000"
      ]
     },
     "execution_count": 7,
     "metadata": {},
     "output_type": "execute_result"
    }
   ],
   "source": [
    "trainDf.describe()"
   ]
  },
  {
   "cell_type": "code",
   "execution_count": 8,
   "id": "detailed-wildlife",
   "metadata": {
    "execution": {
     "iopub.execute_input": "2021-04-18T07:13:21.163812Z",
     "iopub.status.busy": "2021-04-18T07:13:21.158282Z",
     "iopub.status.idle": "2021-04-18T07:13:21.173628Z",
     "shell.execute_reply": "2021-04-18T07:13:21.172837Z"
    },
    "papermill": {
     "duration": 0.079033,
     "end_time": "2021-04-18T07:13:21.173810",
     "exception": false,
     "start_time": "2021-04-18T07:13:21.094777",
     "status": "completed"
    },
    "tags": []
   },
   "outputs": [
    {
     "data": {
      "text/plain": [
       "ID                   0\n",
       "Gender               0\n",
       "Ever_Married       140\n",
       "Age                  0\n",
       "Graduated           78\n",
       "Profession         124\n",
       "Work_Experience    829\n",
       "Spending_Score       0\n",
       "Family_Size        335\n",
       "Var_1               76\n",
       "Segmentation         0\n",
       "dtype: int64"
      ]
     },
     "execution_count": 8,
     "metadata": {},
     "output_type": "execute_result"
    }
   ],
   "source": [
    "trainDf.isnull().sum()\n",
    "\n",
    "#workexperience nanları 0 \n",
    "#family size ları 1 doldur\n",
    "#Graduated non knowed\n",
    "#Profession non knowed\n",
    "#Ever_Married preferNotSay"
   ]
  },
  {
   "cell_type": "code",
   "execution_count": 9,
   "id": "assumed-pledge",
   "metadata": {
    "execution": {
     "iopub.execute_input": "2021-04-18T07:13:21.316584Z",
     "iopub.status.busy": "2021-04-18T07:13:21.315512Z",
     "iopub.status.idle": "2021-04-18T07:13:21.323737Z",
     "shell.execute_reply": "2021-04-18T07:13:21.322786Z"
    },
    "papermill": {
     "duration": 0.099477,
     "end_time": "2021-04-18T07:13:21.323913",
     "exception": false,
     "start_time": "2021-04-18T07:13:21.224436",
     "status": "completed"
    },
    "tags": []
   },
   "outputs": [
    {
     "data": {
      "text/html": [
       "<div>\n",
       "<style scoped>\n",
       "    .dataframe tbody tr th:only-of-type {\n",
       "        vertical-align: middle;\n",
       "    }\n",
       "\n",
       "    .dataframe tbody tr th {\n",
       "        vertical-align: top;\n",
       "    }\n",
       "\n",
       "    .dataframe thead th {\n",
       "        text-align: right;\n",
       "    }\n",
       "</style>\n",
       "<table border=\"1\" class=\"dataframe\">\n",
       "  <thead>\n",
       "    <tr style=\"text-align: right;\">\n",
       "      <th></th>\n",
       "      <th>ID</th>\n",
       "      <th>Gender</th>\n",
       "      <th>Ever_Married</th>\n",
       "      <th>Age</th>\n",
       "      <th>Graduated</th>\n",
       "      <th>Profession</th>\n",
       "      <th>Work_Experience</th>\n",
       "      <th>Spending_Score</th>\n",
       "      <th>Family_Size</th>\n",
       "      <th>Var_1</th>\n",
       "      <th>Segmentation</th>\n",
       "    </tr>\n",
       "  </thead>\n",
       "  <tbody>\n",
       "    <tr>\n",
       "      <th>79</th>\n",
       "      <td>466567</td>\n",
       "      <td>Female</td>\n",
       "      <td>No</td>\n",
       "      <td>49</td>\n",
       "      <td>Yes</td>\n",
       "      <td>NaN</td>\n",
       "      <td>1.0</td>\n",
       "      <td>Low</td>\n",
       "      <td>1.0</td>\n",
       "      <td>Cat_6</td>\n",
       "      <td>D</td>\n",
       "    </tr>\n",
       "    <tr>\n",
       "      <th>118</th>\n",
       "      <td>465827</td>\n",
       "      <td>Male</td>\n",
       "      <td>No</td>\n",
       "      <td>27</td>\n",
       "      <td>No</td>\n",
       "      <td>NaN</td>\n",
       "      <td>2.0</td>\n",
       "      <td>Low</td>\n",
       "      <td>7.0</td>\n",
       "      <td>Cat_4</td>\n",
       "      <td>D</td>\n",
       "    </tr>\n",
       "    <tr>\n",
       "      <th>219</th>\n",
       "      <td>465837</td>\n",
       "      <td>Male</td>\n",
       "      <td>No</td>\n",
       "      <td>62</td>\n",
       "      <td>Yes</td>\n",
       "      <td>NaN</td>\n",
       "      <td>0.0</td>\n",
       "      <td>Low</td>\n",
       "      <td>1.0</td>\n",
       "      <td>Cat_6</td>\n",
       "      <td>A</td>\n",
       "    </tr>\n",
       "    <tr>\n",
       "      <th>237</th>\n",
       "      <td>467252</td>\n",
       "      <td>Female</td>\n",
       "      <td>No</td>\n",
       "      <td>33</td>\n",
       "      <td>Yes</td>\n",
       "      <td>NaN</td>\n",
       "      <td>0.0</td>\n",
       "      <td>Low</td>\n",
       "      <td>4.0</td>\n",
       "      <td>NaN</td>\n",
       "      <td>D</td>\n",
       "    </tr>\n",
       "    <tr>\n",
       "      <th>437</th>\n",
       "      <td>461410</td>\n",
       "      <td>Male</td>\n",
       "      <td>Yes</td>\n",
       "      <td>79</td>\n",
       "      <td>No</td>\n",
       "      <td>NaN</td>\n",
       "      <td>0.0</td>\n",
       "      <td>Average</td>\n",
       "      <td>2.0</td>\n",
       "      <td>NaN</td>\n",
       "      <td>C</td>\n",
       "    </tr>\n",
       "    <tr>\n",
       "      <th>...</th>\n",
       "      <td>...</td>\n",
       "      <td>...</td>\n",
       "      <td>...</td>\n",
       "      <td>...</td>\n",
       "      <td>...</td>\n",
       "      <td>...</td>\n",
       "      <td>...</td>\n",
       "      <td>...</td>\n",
       "      <td>...</td>\n",
       "      <td>...</td>\n",
       "      <td>...</td>\n",
       "    </tr>\n",
       "    <tr>\n",
       "      <th>7743</th>\n",
       "      <td>467388</td>\n",
       "      <td>Male</td>\n",
       "      <td>No</td>\n",
       "      <td>35</td>\n",
       "      <td>NaN</td>\n",
       "      <td>NaN</td>\n",
       "      <td>0.0</td>\n",
       "      <td>Low</td>\n",
       "      <td>NaN</td>\n",
       "      <td>Cat_6</td>\n",
       "      <td>D</td>\n",
       "    </tr>\n",
       "    <tr>\n",
       "      <th>7870</th>\n",
       "      <td>462301</td>\n",
       "      <td>Female</td>\n",
       "      <td>No</td>\n",
       "      <td>27</td>\n",
       "      <td>No</td>\n",
       "      <td>NaN</td>\n",
       "      <td>12.0</td>\n",
       "      <td>Low</td>\n",
       "      <td>3.0</td>\n",
       "      <td>Cat_6</td>\n",
       "      <td>D</td>\n",
       "    </tr>\n",
       "    <tr>\n",
       "      <th>7899</th>\n",
       "      <td>464548</td>\n",
       "      <td>Female</td>\n",
       "      <td>Yes</td>\n",
       "      <td>47</td>\n",
       "      <td>No</td>\n",
       "      <td>NaN</td>\n",
       "      <td>1.0</td>\n",
       "      <td>Low</td>\n",
       "      <td>1.0</td>\n",
       "      <td>Cat_4</td>\n",
       "      <td>A</td>\n",
       "    </tr>\n",
       "    <tr>\n",
       "      <th>7935</th>\n",
       "      <td>464977</td>\n",
       "      <td>Female</td>\n",
       "      <td>Yes</td>\n",
       "      <td>66</td>\n",
       "      <td>No</td>\n",
       "      <td>NaN</td>\n",
       "      <td>1.0</td>\n",
       "      <td>Average</td>\n",
       "      <td>2.0</td>\n",
       "      <td>Cat_4</td>\n",
       "      <td>B</td>\n",
       "    </tr>\n",
       "    <tr>\n",
       "      <th>8063</th>\n",
       "      <td>464018</td>\n",
       "      <td>Male</td>\n",
       "      <td>No</td>\n",
       "      <td>22</td>\n",
       "      <td>No</td>\n",
       "      <td>NaN</td>\n",
       "      <td>0.0</td>\n",
       "      <td>Low</td>\n",
       "      <td>7.0</td>\n",
       "      <td>Cat_1</td>\n",
       "      <td>D</td>\n",
       "    </tr>\n",
       "  </tbody>\n",
       "</table>\n",
       "<p>124 rows × 11 columns</p>\n",
       "</div>"
      ],
      "text/plain": [
       "          ID  Gender Ever_Married  Age Graduated Profession  Work_Experience  \\\n",
       "79    466567  Female           No   49       Yes        NaN              1.0   \n",
       "118   465827    Male           No   27        No        NaN              2.0   \n",
       "219   465837    Male           No   62       Yes        NaN              0.0   \n",
       "237   467252  Female           No   33       Yes        NaN              0.0   \n",
       "437   461410    Male          Yes   79        No        NaN              0.0   \n",
       "...      ...     ...          ...  ...       ...        ...              ...   \n",
       "7743  467388    Male           No   35       NaN        NaN              0.0   \n",
       "7870  462301  Female           No   27        No        NaN             12.0   \n",
       "7899  464548  Female          Yes   47        No        NaN              1.0   \n",
       "7935  464977  Female          Yes   66        No        NaN              1.0   \n",
       "8063  464018    Male           No   22        No        NaN              0.0   \n",
       "\n",
       "     Spending_Score  Family_Size  Var_1 Segmentation  \n",
       "79              Low          1.0  Cat_6            D  \n",
       "118             Low          7.0  Cat_4            D  \n",
       "219             Low          1.0  Cat_6            A  \n",
       "237             Low          4.0    NaN            D  \n",
       "437         Average          2.0    NaN            C  \n",
       "...             ...          ...    ...          ...  \n",
       "7743            Low          NaN  Cat_6            D  \n",
       "7870            Low          3.0  Cat_6            D  \n",
       "7899            Low          1.0  Cat_4            A  \n",
       "7935        Average          2.0  Cat_4            B  \n",
       "8063            Low          7.0  Cat_1            D  \n",
       "\n",
       "[124 rows x 11 columns]"
      ]
     },
     "execution_count": 9,
     "metadata": {},
     "output_type": "execute_result"
    }
   ],
   "source": [
    "trainDf[trainDf['Profession'].isnull()]"
   ]
  },
  {
   "cell_type": "code",
   "execution_count": 10,
   "id": "together-crystal",
   "metadata": {
    "execution": {
     "iopub.execute_input": "2021-04-18T07:13:21.455689Z",
     "iopub.status.busy": "2021-04-18T07:13:21.454475Z",
     "iopub.status.idle": "2021-04-18T07:13:21.479769Z",
     "shell.execute_reply": "2021-04-18T07:13:21.480633Z"
    },
    "papermill": {
     "duration": 0.106916,
     "end_time": "2021-04-18T07:13:21.480883",
     "exception": false,
     "start_time": "2021-04-18T07:13:21.373967",
     "status": "completed"
    },
    "tags": []
   },
   "outputs": [
    {
     "data": {
      "text/html": [
       "<div>\n",
       "<style scoped>\n",
       "    .dataframe tbody tr th:only-of-type {\n",
       "        vertical-align: middle;\n",
       "    }\n",
       "\n",
       "    .dataframe tbody tr th {\n",
       "        vertical-align: top;\n",
       "    }\n",
       "\n",
       "    .dataframe thead th {\n",
       "        text-align: right;\n",
       "    }\n",
       "</style>\n",
       "<table border=\"1\" class=\"dataframe\">\n",
       "  <thead>\n",
       "    <tr style=\"text-align: right;\">\n",
       "      <th></th>\n",
       "      <th>ID</th>\n",
       "      <th>Gender</th>\n",
       "      <th>Ever_Married</th>\n",
       "      <th>Age</th>\n",
       "      <th>Graduated</th>\n",
       "      <th>Profession</th>\n",
       "      <th>Work_Experience</th>\n",
       "      <th>Spending_Score</th>\n",
       "      <th>Family_Size</th>\n",
       "      <th>Var_1</th>\n",
       "      <th>Segmentation</th>\n",
       "    </tr>\n",
       "  </thead>\n",
       "  <tbody>\n",
       "    <tr>\n",
       "      <th>24</th>\n",
       "      <td>461021</td>\n",
       "      <td>Female</td>\n",
       "      <td>NaN</td>\n",
       "      <td>58</td>\n",
       "      <td>No</td>\n",
       "      <td>Executive</td>\n",
       "      <td>1.0</td>\n",
       "      <td>Average</td>\n",
       "      <td>3.0</td>\n",
       "      <td>Cat_3</td>\n",
       "      <td>B</td>\n",
       "    </tr>\n",
       "    <tr>\n",
       "      <th>108</th>\n",
       "      <td>466466</td>\n",
       "      <td>Female</td>\n",
       "      <td>NaN</td>\n",
       "      <td>19</td>\n",
       "      <td>No</td>\n",
       "      <td>Healthcare</td>\n",
       "      <td>6.0</td>\n",
       "      <td>Low</td>\n",
       "      <td>5.0</td>\n",
       "      <td>Cat_3</td>\n",
       "      <td>D</td>\n",
       "    </tr>\n",
       "    <tr>\n",
       "      <th>201</th>\n",
       "      <td>466065</td>\n",
       "      <td>Male</td>\n",
       "      <td>NaN</td>\n",
       "      <td>19</td>\n",
       "      <td>No</td>\n",
       "      <td>Healthcare</td>\n",
       "      <td>9.0</td>\n",
       "      <td>Low</td>\n",
       "      <td>3.0</td>\n",
       "      <td>Cat_3</td>\n",
       "      <td>D</td>\n",
       "    </tr>\n",
       "    <tr>\n",
       "      <th>213</th>\n",
       "      <td>460516</td>\n",
       "      <td>Female</td>\n",
       "      <td>NaN</td>\n",
       "      <td>85</td>\n",
       "      <td>No</td>\n",
       "      <td>Lawyer</td>\n",
       "      <td>0.0</td>\n",
       "      <td>High</td>\n",
       "      <td>1.0</td>\n",
       "      <td>Cat_3</td>\n",
       "      <td>C</td>\n",
       "    </tr>\n",
       "    <tr>\n",
       "      <th>272</th>\n",
       "      <td>464841</td>\n",
       "      <td>Male</td>\n",
       "      <td>NaN</td>\n",
       "      <td>19</td>\n",
       "      <td>No</td>\n",
       "      <td>Entertainment</td>\n",
       "      <td>0.0</td>\n",
       "      <td>High</td>\n",
       "      <td>3.0</td>\n",
       "      <td>Cat_4</td>\n",
       "      <td>D</td>\n",
       "    </tr>\n",
       "    <tr>\n",
       "      <th>...</th>\n",
       "      <td>...</td>\n",
       "      <td>...</td>\n",
       "      <td>...</td>\n",
       "      <td>...</td>\n",
       "      <td>...</td>\n",
       "      <td>...</td>\n",
       "      <td>...</td>\n",
       "      <td>...</td>\n",
       "      <td>...</td>\n",
       "      <td>...</td>\n",
       "      <td>...</td>\n",
       "    </tr>\n",
       "    <tr>\n",
       "      <th>7756</th>\n",
       "      <td>465987</td>\n",
       "      <td>Male</td>\n",
       "      <td>NaN</td>\n",
       "      <td>20</td>\n",
       "      <td>No</td>\n",
       "      <td>Healthcare</td>\n",
       "      <td>1.0</td>\n",
       "      <td>Low</td>\n",
       "      <td>3.0</td>\n",
       "      <td>Cat_2</td>\n",
       "      <td>D</td>\n",
       "    </tr>\n",
       "    <tr>\n",
       "      <th>7775</th>\n",
       "      <td>462989</td>\n",
       "      <td>Male</td>\n",
       "      <td>NaN</td>\n",
       "      <td>32</td>\n",
       "      <td>Yes</td>\n",
       "      <td>Healthcare</td>\n",
       "      <td>1.0</td>\n",
       "      <td>Low</td>\n",
       "      <td>1.0</td>\n",
       "      <td>Cat_6</td>\n",
       "      <td>D</td>\n",
       "    </tr>\n",
       "    <tr>\n",
       "      <th>8011</th>\n",
       "      <td>466026</td>\n",
       "      <td>Female</td>\n",
       "      <td>NaN</td>\n",
       "      <td>49</td>\n",
       "      <td>No</td>\n",
       "      <td>Entertainment</td>\n",
       "      <td>0.0</td>\n",
       "      <td>Low</td>\n",
       "      <td>1.0</td>\n",
       "      <td>Cat_3</td>\n",
       "      <td>A</td>\n",
       "    </tr>\n",
       "    <tr>\n",
       "      <th>8030</th>\n",
       "      <td>459082</td>\n",
       "      <td>Male</td>\n",
       "      <td>NaN</td>\n",
       "      <td>45</td>\n",
       "      <td>Yes</td>\n",
       "      <td>Artist</td>\n",
       "      <td>1.0</td>\n",
       "      <td>Low</td>\n",
       "      <td>NaN</td>\n",
       "      <td>Cat_6</td>\n",
       "      <td>A</td>\n",
       "    </tr>\n",
       "    <tr>\n",
       "      <th>8044</th>\n",
       "      <td>466997</td>\n",
       "      <td>Female</td>\n",
       "      <td>NaN</td>\n",
       "      <td>50</td>\n",
       "      <td>No</td>\n",
       "      <td>Engineer</td>\n",
       "      <td>1.0</td>\n",
       "      <td>Low</td>\n",
       "      <td>2.0</td>\n",
       "      <td>Cat_6</td>\n",
       "      <td>D</td>\n",
       "    </tr>\n",
       "  </tbody>\n",
       "</table>\n",
       "<p>140 rows × 11 columns</p>\n",
       "</div>"
      ],
      "text/plain": [
       "          ID  Gender Ever_Married  Age Graduated     Profession  \\\n",
       "24    461021  Female          NaN   58        No      Executive   \n",
       "108   466466  Female          NaN   19        No     Healthcare   \n",
       "201   466065    Male          NaN   19        No     Healthcare   \n",
       "213   460516  Female          NaN   85        No         Lawyer   \n",
       "272   464841    Male          NaN   19        No  Entertainment   \n",
       "...      ...     ...          ...  ...       ...            ...   \n",
       "7756  465987    Male          NaN   20        No     Healthcare   \n",
       "7775  462989    Male          NaN   32       Yes     Healthcare   \n",
       "8011  466026  Female          NaN   49        No  Entertainment   \n",
       "8030  459082    Male          NaN   45       Yes         Artist   \n",
       "8044  466997  Female          NaN   50        No       Engineer   \n",
       "\n",
       "      Work_Experience Spending_Score  Family_Size  Var_1 Segmentation  \n",
       "24                1.0        Average          3.0  Cat_3            B  \n",
       "108               6.0            Low          5.0  Cat_3            D  \n",
       "201               9.0            Low          3.0  Cat_3            D  \n",
       "213               0.0           High          1.0  Cat_3            C  \n",
       "272               0.0           High          3.0  Cat_4            D  \n",
       "...               ...            ...          ...    ...          ...  \n",
       "7756              1.0            Low          3.0  Cat_2            D  \n",
       "7775              1.0            Low          1.0  Cat_6            D  \n",
       "8011              0.0            Low          1.0  Cat_3            A  \n",
       "8030              1.0            Low          NaN  Cat_6            A  \n",
       "8044              1.0            Low          2.0  Cat_6            D  \n",
       "\n",
       "[140 rows x 11 columns]"
      ]
     },
     "execution_count": 10,
     "metadata": {},
     "output_type": "execute_result"
    }
   ],
   "source": [
    "trainDf[trainDf['Ever_Married'].isnull()]"
   ]
  },
  {
   "cell_type": "code",
   "execution_count": 11,
   "id": "stable-freeware",
   "metadata": {
    "execution": {
     "iopub.execute_input": "2021-04-18T07:13:21.594635Z",
     "iopub.status.busy": "2021-04-18T07:13:21.593934Z",
     "iopub.status.idle": "2021-04-18T07:13:21.599913Z",
     "shell.execute_reply": "2021-04-18T07:13:21.599270Z"
    },
    "papermill": {
     "duration": 0.067058,
     "end_time": "2021-04-18T07:13:21.600077",
     "exception": false,
     "start_time": "2021-04-18T07:13:21.533019",
     "status": "completed"
    },
    "tags": []
   },
   "outputs": [],
   "source": [
    "#workexperience nanları 0 \n",
    "#family size ları 1 doldur\n",
    "#Graduated non knowed\n",
    "#Profession non knowed\n",
    "#Ever_Married preferNotSay"
   ]
  },
  {
   "cell_type": "code",
   "execution_count": 12,
   "id": "handled-turkey",
   "metadata": {
    "execution": {
     "iopub.execute_input": "2021-04-18T07:13:21.672556Z",
     "iopub.status.busy": "2021-04-18T07:13:21.671623Z",
     "iopub.status.idle": "2021-04-18T07:13:21.689520Z",
     "shell.execute_reply": "2021-04-18T07:13:21.690146Z"
    },
    "papermill": {
     "duration": 0.056225,
     "end_time": "2021-04-18T07:13:21.690346",
     "exception": false,
     "start_time": "2021-04-18T07:13:21.634121",
     "status": "completed"
    },
    "tags": []
   },
   "outputs": [],
   "source": [
    "trainDf.loc[(trainDf['Ever_Married'].isnull()),'Ever_Married']= 'noncommittal'\n",
    "trainDf.loc[(trainDf['Work_Experience'].isnull()),'Work_Experience']= 0\n",
    "trainDf.loc[(trainDf['Family_Size'].isnull()),'Family_Size']= 1\n",
    "trainDf.loc[(trainDf['Graduated'].isnull()),'Graduated']= 'noncommittal'\n",
    "trainDf.loc[(trainDf['Profession'].isnull()),'Profession']= 'noncommittal'"
   ]
  },
  {
   "cell_type": "code",
   "execution_count": 13,
   "id": "surrounded-short",
   "metadata": {
    "execution": {
     "iopub.execute_input": "2021-04-18T07:13:21.776122Z",
     "iopub.status.busy": "2021-04-18T07:13:21.775449Z",
     "iopub.status.idle": "2021-04-18T07:13:21.781977Z",
     "shell.execute_reply": "2021-04-18T07:13:21.782539Z"
    },
    "papermill": {
     "duration": 0.057421,
     "end_time": "2021-04-18T07:13:21.782732",
     "exception": false,
     "start_time": "2021-04-18T07:13:21.725311",
     "status": "completed"
    },
    "tags": []
   },
   "outputs": [
    {
     "data": {
      "text/html": [
       "<div>\n",
       "<style scoped>\n",
       "    .dataframe tbody tr th:only-of-type {\n",
       "        vertical-align: middle;\n",
       "    }\n",
       "\n",
       "    .dataframe tbody tr th {\n",
       "        vertical-align: top;\n",
       "    }\n",
       "\n",
       "    .dataframe thead th {\n",
       "        text-align: right;\n",
       "    }\n",
       "</style>\n",
       "<table border=\"1\" class=\"dataframe\">\n",
       "  <thead>\n",
       "    <tr style=\"text-align: right;\">\n",
       "      <th></th>\n",
       "      <th>ID</th>\n",
       "      <th>Gender</th>\n",
       "      <th>Ever_Married</th>\n",
       "      <th>Age</th>\n",
       "      <th>Graduated</th>\n",
       "      <th>Profession</th>\n",
       "      <th>Work_Experience</th>\n",
       "      <th>Spending_Score</th>\n",
       "      <th>Family_Size</th>\n",
       "      <th>Var_1</th>\n",
       "      <th>Segmentation</th>\n",
       "    </tr>\n",
       "  </thead>\n",
       "  <tbody>\n",
       "  </tbody>\n",
       "</table>\n",
       "</div>"
      ],
      "text/plain": [
       "Empty DataFrame\n",
       "Columns: [ID, Gender, Ever_Married, Age, Graduated, Profession, Work_Experience, Spending_Score, Family_Size, Var_1, Segmentation]\n",
       "Index: []"
      ]
     },
     "execution_count": 13,
     "metadata": {},
     "output_type": "execute_result"
    }
   ],
   "source": [
    "trainDf.loc[(trainDf['Ever_Married'].isnull())]"
   ]
  },
  {
   "cell_type": "code",
   "execution_count": 14,
   "id": "talented-triple",
   "metadata": {
    "execution": {
     "iopub.execute_input": "2021-04-18T07:13:21.864976Z",
     "iopub.status.busy": "2021-04-18T07:13:21.864054Z",
     "iopub.status.idle": "2021-04-18T07:13:21.874155Z",
     "shell.execute_reply": "2021-04-18T07:13:21.873266Z"
    },
    "papermill": {
     "duration": 0.055898,
     "end_time": "2021-04-18T07:13:21.874352",
     "exception": false,
     "start_time": "2021-04-18T07:13:21.818454",
     "status": "completed"
    },
    "tags": []
   },
   "outputs": [
    {
     "data": {
      "text/plain": [
       "Yes             4643\n",
       "No              3285\n",
       "noncommittal     140\n",
       "Name: Ever_Married, dtype: int64"
      ]
     },
     "execution_count": 14,
     "metadata": {},
     "output_type": "execute_result"
    }
   ],
   "source": [
    "trainDf['Ever_Married'].value_counts()"
   ]
  },
  {
   "cell_type": "code",
   "execution_count": 15,
   "id": "hungarian-apparel",
   "metadata": {
    "execution": {
     "iopub.execute_input": "2021-04-18T07:13:21.996369Z",
     "iopub.status.busy": "2021-04-18T07:13:21.995191Z",
     "iopub.status.idle": "2021-04-18T07:13:22.012543Z",
     "shell.execute_reply": "2021-04-18T07:13:22.013283Z"
    },
    "papermill": {
     "duration": 0.085401,
     "end_time": "2021-04-18T07:13:22.013507",
     "exception": false,
     "start_time": "2021-04-18T07:13:21.928106",
     "status": "completed"
    },
    "tags": []
   },
   "outputs": [
    {
     "data": {
      "text/plain": [
       "ID                  0\n",
       "Gender              0\n",
       "Ever_Married        0\n",
       "Age                 0\n",
       "Graduated           0\n",
       "Profession          0\n",
       "Work_Experience     0\n",
       "Spending_Score      0\n",
       "Family_Size         0\n",
       "Var_1              76\n",
       "Segmentation        0\n",
       "dtype: int64"
      ]
     },
     "execution_count": 15,
     "metadata": {},
     "output_type": "execute_result"
    }
   ],
   "source": [
    "trainDf.isnull().sum()"
   ]
  },
  {
   "cell_type": "code",
   "execution_count": 16,
   "id": "medical-description",
   "metadata": {
    "execution": {
     "iopub.execute_input": "2021-04-18T07:13:22.136682Z",
     "iopub.status.busy": "2021-04-18T07:13:22.132101Z",
     "iopub.status.idle": "2021-04-18T07:13:22.191813Z",
     "shell.execute_reply": "2021-04-18T07:13:22.191015Z"
    },
    "papermill": {
     "duration": 0.124351,
     "end_time": "2021-04-18T07:13:22.191996",
     "exception": false,
     "start_time": "2021-04-18T07:13:22.067645",
     "status": "completed"
    },
    "tags": []
   },
   "outputs": [
    {
     "name": "stdout",
     "output_type": "stream",
     "text": [
      "<class 'pandas.core.frame.DataFrame'>\n",
      "RangeIndex: 8068 entries, 0 to 8067\n",
      "Data columns (total 11 columns):\n",
      " #   Column           Non-Null Count  Dtype  \n",
      "---  ------           --------------  -----  \n",
      " 0   ID               8068 non-null   int64  \n",
      " 1   Gender           8068 non-null   int64  \n",
      " 2   Ever_Married     8068 non-null   int64  \n",
      " 3   Age              8068 non-null   int64  \n",
      " 4   Graduated        8068 non-null   int64  \n",
      " 5   Profession       8068 non-null   int64  \n",
      " 6   Work_Experience  8068 non-null   float64\n",
      " 7   Spending_Score   8068 non-null   int64  \n",
      " 8   Family_Size      8068 non-null   float64\n",
      " 9   Var_1            7992 non-null   object \n",
      " 10  Segmentation     8068 non-null   int64  \n",
      "dtypes: float64(2), int64(8), object(1)\n",
      "memory usage: 693.5+ KB\n"
     ]
    }
   ],
   "source": [
    "labelEncoder = LabelEncoder()\n",
    "#Gender           8068 non-null   object \n",
    "#2   Ever_Married     7928 non-null   object \n",
    "#4   Graduated        7990 non-null   object \n",
    "#5   Profession       7944 non-null   object \n",
    "#7   Spending_Score   8068 non-null   object \n",
    "trainDf['Ever_Married'] = labelEncoder.fit_transform(trainDf['Ever_Married'])\n",
    "trainDf['Graduated'] = labelEncoder.fit_transform(trainDf['Graduated'])\n",
    "trainDf['Profession'] = labelEncoder.fit_transform(trainDf['Profession'])\n",
    "trainDf['Spending_Score'] = labelEncoder.fit_transform(trainDf['Spending_Score'])\n",
    "trainDf['Gender'] = labelEncoder.fit_transform(trainDf['Gender'])\n",
    "\n",
    "trainDf['Segmentation'] = labelEncoder.fit_transform(trainDf['Segmentation'])\n",
    "\n",
    "trainDf.info()"
   ]
  },
  {
   "cell_type": "code",
   "execution_count": 17,
   "id": "skilled-plant",
   "metadata": {
    "execution": {
     "iopub.execute_input": "2021-04-18T07:13:22.312186Z",
     "iopub.status.busy": "2021-04-18T07:13:22.311285Z",
     "iopub.status.idle": "2021-04-18T07:13:22.318338Z",
     "shell.execute_reply": "2021-04-18T07:13:22.317059Z"
    },
    "papermill": {
     "duration": 0.069685,
     "end_time": "2021-04-18T07:13:22.318529",
     "exception": false,
     "start_time": "2021-04-18T07:13:22.248844",
     "status": "completed"
    },
    "tags": []
   },
   "outputs": [],
   "source": [
    "feature_columns = ['Gender', 'Ever_Married', 'Age', 'Graduated', 'Profession', 'Work_Experience', 'Spending_Score', 'Family_Size']\n",
    "target_column = ['Segmentation']"
   ]
  },
  {
   "cell_type": "code",
   "execution_count": 18,
   "id": "related-monroe",
   "metadata": {
    "execution": {
     "iopub.execute_input": "2021-04-18T07:13:22.437079Z",
     "iopub.status.busy": "2021-04-18T07:13:22.435836Z",
     "iopub.status.idle": "2021-04-18T07:13:22.444564Z",
     "shell.execute_reply": "2021-04-18T07:13:22.442893Z"
    },
    "papermill": {
     "duration": 0.070479,
     "end_time": "2021-04-18T07:13:22.444786",
     "exception": false,
     "start_time": "2021-04-18T07:13:22.374307",
     "status": "completed"
    },
    "tags": []
   },
   "outputs": [],
   "source": [
    "from sklearn.preprocessing import normalize,scale"
   ]
  },
  {
   "cell_type": "code",
   "execution_count": 19,
   "id": "separated-screening",
   "metadata": {
    "execution": {
     "iopub.execute_input": "2021-04-18T07:13:22.566899Z",
     "iopub.status.busy": "2021-04-18T07:13:22.562752Z",
     "iopub.status.idle": "2021-04-18T07:13:22.580343Z",
     "shell.execute_reply": "2021-04-18T07:13:22.579640Z"
    },
    "papermill": {
     "duration": 0.080297,
     "end_time": "2021-04-18T07:13:22.580485",
     "exception": false,
     "start_time": "2021-04-18T07:13:22.500188",
     "status": "completed"
    },
    "tags": []
   },
   "outputs": [
    {
     "data": {
      "text/plain": [
       "array([[ 0.90916397, -1.16877275, -1.28462344, ..., -0.41210249,\n",
       "         0.754462  ,  0.7945189 ],\n",
       "       [-1.0999116 ,  0.74665657, -0.32715082, ..., -0.71285715,\n",
       "        -1.60301259,  0.14682985],\n",
       "       [-1.0999116 ,  0.74665657,  1.40826831, ..., -0.41210249,\n",
       "         0.754462  , -1.14854823],\n",
       "       ...,\n",
       "       [-1.0999116 , -1.16877275, -0.62636101, ..., -0.41210249,\n",
       "         0.754462  , -1.14854823],\n",
       "       [-1.0999116 , -1.16877275, -0.98541324, ..., -0.41210249,\n",
       "         0.754462  ,  0.7945189 ],\n",
       "       [ 0.90916397,  0.74665657, -0.38699286, ..., -0.71285715,\n",
       "        -1.60301259,  0.14682985]])"
      ]
     },
     "execution_count": 19,
     "metadata": {},
     "output_type": "execute_result"
    }
   ],
   "source": [
    "data_scaled = scale(trainDf[feature_columns])\n",
    "data_scaled"
   ]
  },
  {
   "cell_type": "code",
   "execution_count": 20,
   "id": "driven-buyer",
   "metadata": {
    "execution": {
     "iopub.execute_input": "2021-04-18T07:13:22.662599Z",
     "iopub.status.busy": "2021-04-18T07:13:22.661779Z",
     "iopub.status.idle": "2021-04-18T07:13:22.673841Z",
     "shell.execute_reply": "2021-04-18T07:13:22.673147Z"
    },
    "papermill": {
     "duration": 0.05623,
     "end_time": "2021-04-18T07:13:22.673980",
     "exception": false,
     "start_time": "2021-04-18T07:13:22.617750",
     "status": "completed"
    },
    "tags": []
   },
   "outputs": [
    {
     "data": {
      "text/plain": [
       "-1.60301259307534"
      ]
     },
     "execution_count": 20,
     "metadata": {},
     "output_type": "execute_result"
    }
   ],
   "source": [
    "data_scaled.max()\n",
    "data_scaled.min()"
   ]
  },
  {
   "cell_type": "code",
   "execution_count": 21,
   "id": "practical-difference",
   "metadata": {
    "execution": {
     "iopub.execute_input": "2021-04-18T07:13:22.758647Z",
     "iopub.status.busy": "2021-04-18T07:13:22.757716Z",
     "iopub.status.idle": "2021-04-18T07:13:22.765838Z",
     "shell.execute_reply": "2021-04-18T07:13:22.766564Z"
    },
    "papermill": {
     "duration": 0.054963,
     "end_time": "2021-04-18T07:13:22.766806",
     "exception": false,
     "start_time": "2021-04-18T07:13:22.711843",
     "status": "completed"
    },
    "tags": []
   },
   "outputs": [
    {
     "data": {
      "text/plain": [
       "array([ 1., -1.])"
      ]
     },
     "execution_count": 21,
     "metadata": {},
     "output_type": "execute_result"
    }
   ],
   "source": [
    "scale([110,20])"
   ]
  },
  {
   "cell_type": "code",
   "execution_count": 22,
   "id": "above-michael",
   "metadata": {
    "execution": {
     "iopub.execute_input": "2021-04-18T07:13:22.899084Z",
     "iopub.status.busy": "2021-04-18T07:13:22.898187Z",
     "iopub.status.idle": "2021-04-18T07:13:22.904844Z",
     "shell.execute_reply": "2021-04-18T07:13:22.903870Z"
    },
    "papermill": {
     "duration": 0.077733,
     "end_time": "2021-04-18T07:13:22.905046",
     "exception": false,
     "start_time": "2021-04-18T07:13:22.827313",
     "status": "completed"
    },
    "tags": []
   },
   "outputs": [],
   "source": [
    "data_normal = normalize(trainDf[feature_columns])"
   ]
  },
  {
   "cell_type": "code",
   "execution_count": 23,
   "id": "compatible-times",
   "metadata": {
    "execution": {
     "iopub.execute_input": "2021-04-18T07:13:23.037380Z",
     "iopub.status.busy": "2021-04-18T07:13:23.035763Z",
     "iopub.status.idle": "2021-04-18T07:13:23.052637Z",
     "shell.execute_reply": "2021-04-18T07:13:23.050478Z"
    },
    "papermill": {
     "duration": 0.088414,
     "end_time": "2021-04-18T07:13:23.052857",
     "exception": false,
     "start_time": "2021-04-18T07:13:22.964443",
     "status": "completed"
    },
    "tags": []
   },
   "outputs": [
    {
     "data": {
      "text/plain": [
       "array([[1.        , 0.        , 0.05633803, ..., 0.07142857, 1.        ,\n",
       "        0.375     ],\n",
       "       [0.        , 0.5       , 0.28169014, ..., 0.        , 0.        ,\n",
       "        0.25      ],\n",
       "       [0.        , 0.5       , 0.69014085, ..., 0.07142857, 1.        ,\n",
       "        0.        ],\n",
       "       ...,\n",
       "       [0.        , 0.        , 0.21126761, ..., 0.07142857, 1.        ,\n",
       "        0.        ],\n",
       "       [0.        , 0.        , 0.12676056, ..., 0.07142857, 1.        ,\n",
       "        0.375     ],\n",
       "       [1.        , 0.5       , 0.26760563, ..., 0.        , 0.        ,\n",
       "        0.25      ]])"
      ]
     },
     "execution_count": 23,
     "metadata": {},
     "output_type": "execute_result"
    }
   ],
   "source": [
    "from sklearn.preprocessing import MinMaxScaler\n",
    "scaler = MinMaxScaler()\n",
    "scaled = scaler.fit_transform(trainDf[feature_columns])\n",
    "scaled"
   ]
  },
  {
   "cell_type": "code",
   "execution_count": 24,
   "id": "logical-dispatch",
   "metadata": {
    "execution": {
     "iopub.execute_input": "2021-04-18T07:13:23.183301Z",
     "iopub.status.busy": "2021-04-18T07:13:23.182366Z",
     "iopub.status.idle": "2021-04-18T07:13:23.192957Z",
     "shell.execute_reply": "2021-04-18T07:13:23.192051Z"
    },
    "papermill": {
     "duration": 0.078664,
     "end_time": "2021-04-18T07:13:23.193136",
     "exception": false,
     "start_time": "2021-04-18T07:13:23.114472",
     "status": "completed"
    },
    "tags": []
   },
   "outputs": [],
   "source": [
    "x_train,x_test,y_train,y_test = train_test_split(scaled, trainDf[target_column], test_size=0.2)"
   ]
  },
  {
   "cell_type": "code",
   "execution_count": 25,
   "id": "offshore-cargo",
   "metadata": {
    "execution": {
     "iopub.execute_input": "2021-04-18T07:13:23.326326Z",
     "iopub.status.busy": "2021-04-18T07:13:23.325434Z",
     "iopub.status.idle": "2021-04-18T07:13:23.333204Z",
     "shell.execute_reply": "2021-04-18T07:13:23.333843Z"
    },
    "papermill": {
     "duration": 0.080825,
     "end_time": "2021-04-18T07:13:23.334070",
     "exception": false,
     "start_time": "2021-04-18T07:13:23.253245",
     "status": "completed"
    },
    "tags": []
   },
   "outputs": [
    {
     "data": {
      "text/html": [
       "<div>\n",
       "<style scoped>\n",
       "    .dataframe tbody tr th:only-of-type {\n",
       "        vertical-align: middle;\n",
       "    }\n",
       "\n",
       "    .dataframe tbody tr th {\n",
       "        vertical-align: top;\n",
       "    }\n",
       "\n",
       "    .dataframe thead th {\n",
       "        text-align: right;\n",
       "    }\n",
       "</style>\n",
       "<table border=\"1\" class=\"dataframe\">\n",
       "  <thead>\n",
       "    <tr style=\"text-align: right;\">\n",
       "      <th></th>\n",
       "      <th>Segmentation</th>\n",
       "    </tr>\n",
       "  </thead>\n",
       "  <tbody>\n",
       "    <tr>\n",
       "      <th>6819</th>\n",
       "      <td>1</td>\n",
       "    </tr>\n",
       "    <tr>\n",
       "      <th>4224</th>\n",
       "      <td>0</td>\n",
       "    </tr>\n",
       "    <tr>\n",
       "      <th>3761</th>\n",
       "      <td>3</td>\n",
       "    </tr>\n",
       "    <tr>\n",
       "      <th>5222</th>\n",
       "      <td>1</td>\n",
       "    </tr>\n",
       "    <tr>\n",
       "      <th>2082</th>\n",
       "      <td>2</td>\n",
       "    </tr>\n",
       "    <tr>\n",
       "      <th>5127</th>\n",
       "      <td>0</td>\n",
       "    </tr>\n",
       "    <tr>\n",
       "      <th>1143</th>\n",
       "      <td>1</td>\n",
       "    </tr>\n",
       "    <tr>\n",
       "      <th>6264</th>\n",
       "      <td>3</td>\n",
       "    </tr>\n",
       "    <tr>\n",
       "      <th>1308</th>\n",
       "      <td>3</td>\n",
       "    </tr>\n",
       "    <tr>\n",
       "      <th>3084</th>\n",
       "      <td>0</td>\n",
       "    </tr>\n",
       "  </tbody>\n",
       "</table>\n",
       "</div>"
      ],
      "text/plain": [
       "      Segmentation\n",
       "6819             1\n",
       "4224             0\n",
       "3761             3\n",
       "5222             1\n",
       "2082             2\n",
       "5127             0\n",
       "1143             1\n",
       "6264             3\n",
       "1308             3\n",
       "3084             0"
      ]
     },
     "execution_count": 25,
     "metadata": {},
     "output_type": "execute_result"
    }
   ],
   "source": [
    "y_train.sample(10)"
   ]
  },
  {
   "cell_type": "code",
   "execution_count": 26,
   "id": "restricted-leader",
   "metadata": {
    "execution": {
     "iopub.execute_input": "2021-04-18T07:13:23.470759Z",
     "iopub.status.busy": "2021-04-18T07:13:23.467699Z",
     "iopub.status.idle": "2021-04-18T07:13:25.247722Z",
     "shell.execute_reply": "2021-04-18T07:13:25.246519Z"
    },
    "papermill": {
     "duration": 1.847475,
     "end_time": "2021-04-18T07:13:25.247927",
     "exception": false,
     "start_time": "2021-04-18T07:13:23.400452",
     "status": "completed"
    },
    "tags": []
   },
   "outputs": [
    {
     "name": "stderr",
     "output_type": "stream",
     "text": [
      "/opt/conda/lib/python3.7/site-packages/ipykernel_launcher.py:2: DataConversionWarning: A column-vector y was passed when a 1d array was expected. Please change the shape of y to (n_samples,), for example using ravel().\n",
      "  \n"
     ]
    }
   ],
   "source": [
    "randomFor = RandomForestRegressor(n_estimators = 100, random_state = 0)\n",
    "fitted = randomFor.fit(x_train,y_train)"
   ]
  },
  {
   "cell_type": "code",
   "execution_count": 27,
   "id": "brazilian-concentration",
   "metadata": {
    "execution": {
     "iopub.execute_input": "2021-04-18T07:13:25.381245Z",
     "iopub.status.busy": "2021-04-18T07:13:25.380384Z",
     "iopub.status.idle": "2021-04-18T07:13:25.447725Z",
     "shell.execute_reply": "2021-04-18T07:13:25.448384Z"
    },
    "papermill": {
     "duration": 0.138028,
     "end_time": "2021-04-18T07:13:25.448623",
     "exception": false,
     "start_time": "2021-04-18T07:13:25.310595",
     "status": "completed"
    },
    "tags": []
   },
   "outputs": [],
   "source": [
    "y_pred = randomFor.predict(x_test)"
   ]
  },
  {
   "cell_type": "code",
   "execution_count": 28,
   "id": "harmful-porter",
   "metadata": {
    "execution": {
     "iopub.execute_input": "2021-04-18T07:13:25.580974Z",
     "iopub.status.busy": "2021-04-18T07:13:25.580099Z",
     "iopub.status.idle": "2021-04-18T07:13:25.597288Z",
     "shell.execute_reply": "2021-04-18T07:13:25.596344Z"
    },
    "papermill": {
     "duration": 0.088465,
     "end_time": "2021-04-18T07:13:25.597478",
     "exception": false,
     "start_time": "2021-04-18T07:13:25.509013",
     "status": "completed"
    },
    "tags": []
   },
   "outputs": [
    {
     "name": "stdout",
     "output_type": "stream",
     "text": [
      "Mean Absolute Error: 0.8301104579022796\n",
      "Mean Squared Error: 1.152901862328862\n",
      "Root Mean Squared Error: 1.0737326773125897\n"
     ]
    }
   ],
   "source": [
    "print('Mean Absolute Error:', metrics.mean_absolute_error(y_test, y_pred))\n",
    "print('Mean Squared Error:', metrics.mean_squared_error(y_test, y_pred))\n",
    "print('Root Mean Squared Error:', np.sqrt(metrics.mean_squared_error(y_test, y_pred)))"
   ]
  },
  {
   "cell_type": "code",
   "execution_count": 29,
   "id": "north-freeze",
   "metadata": {
    "execution": {
     "iopub.execute_input": "2021-04-18T07:13:25.729099Z",
     "iopub.status.busy": "2021-04-18T07:13:25.728163Z",
     "iopub.status.idle": "2021-04-18T07:13:25.735857Z",
     "shell.execute_reply": "2021-04-18T07:13:25.735062Z"
    },
    "papermill": {
     "duration": 0.07584,
     "end_time": "2021-04-18T07:13:25.736031",
     "exception": false,
     "start_time": "2021-04-18T07:13:25.660191",
     "status": "completed"
    },
    "tags": []
   },
   "outputs": [],
   "source": [
    "#Lets try with drop na cols"
   ]
  },
  {
   "cell_type": "code",
   "execution_count": 30,
   "id": "bacterial-habitat",
   "metadata": {
    "execution": {
     "iopub.execute_input": "2021-04-18T07:13:25.867849Z",
     "iopub.status.busy": "2021-04-18T07:13:25.866903Z",
     "iopub.status.idle": "2021-04-18T07:13:25.875155Z",
     "shell.execute_reply": "2021-04-18T07:13:25.874269Z"
    },
    "papermill": {
     "duration": 0.07583,
     "end_time": "2021-04-18T07:13:25.875337",
     "exception": false,
     "start_time": "2021-04-18T07:13:25.799507",
     "status": "completed"
    },
    "tags": []
   },
   "outputs": [],
   "source": [
    "trainDfDp = trainDf.copy()"
   ]
  },
  {
   "cell_type": "code",
   "execution_count": 31,
   "id": "cross-april",
   "metadata": {
    "execution": {
     "iopub.execute_input": "2021-04-18T07:13:26.010224Z",
     "iopub.status.busy": "2021-04-18T07:13:26.006991Z",
     "iopub.status.idle": "2021-04-18T07:13:26.047838Z",
     "shell.execute_reply": "2021-04-18T07:13:26.046934Z"
    },
    "papermill": {
     "duration": 0.110742,
     "end_time": "2021-04-18T07:13:26.048018",
     "exception": false,
     "start_time": "2021-04-18T07:13:25.937276",
     "status": "completed"
    },
    "tags": []
   },
   "outputs": [],
   "source": [
    "trainDfDp.dropna(inplace=True)"
   ]
  },
  {
   "cell_type": "code",
   "execution_count": 32,
   "id": "periodic-housing",
   "metadata": {
    "execution": {
     "iopub.execute_input": "2021-04-18T07:13:26.188117Z",
     "iopub.status.busy": "2021-04-18T07:13:26.182435Z",
     "iopub.status.idle": "2021-04-18T07:13:26.197981Z",
     "shell.execute_reply": "2021-04-18T07:13:26.198644Z"
    },
    "papermill": {
     "duration": 0.088344,
     "end_time": "2021-04-18T07:13:26.198905",
     "exception": false,
     "start_time": "2021-04-18T07:13:26.110561",
     "status": "completed"
    },
    "tags": []
   },
   "outputs": [
    {
     "data": {
      "text/plain": [
       "ID                 0\n",
       "Gender             0\n",
       "Ever_Married       0\n",
       "Age                0\n",
       "Graduated          0\n",
       "Profession         0\n",
       "Work_Experience    0\n",
       "Spending_Score     0\n",
       "Family_Size        0\n",
       "Var_1              0\n",
       "Segmentation       0\n",
       "dtype: int64"
      ]
     },
     "execution_count": 32,
     "metadata": {},
     "output_type": "execute_result"
    }
   ],
   "source": [
    "trainDfDp.isnull().sum()"
   ]
  },
  {
   "cell_type": "code",
   "execution_count": 33,
   "id": "automotive-delicious",
   "metadata": {
    "execution": {
     "iopub.execute_input": "2021-04-18T07:13:26.341711Z",
     "iopub.status.busy": "2021-04-18T07:13:26.339950Z",
     "iopub.status.idle": "2021-04-18T07:13:26.357559Z",
     "shell.execute_reply": "2021-04-18T07:13:26.356707Z"
    },
    "papermill": {
     "duration": 0.094336,
     "end_time": "2021-04-18T07:13:26.357745",
     "exception": false,
     "start_time": "2021-04-18T07:13:26.263409",
     "status": "completed"
    },
    "tags": []
   },
   "outputs": [
    {
     "data": {
      "text/plain": [
       "array([ 1., -1.])"
      ]
     },
     "execution_count": 33,
     "metadata": {},
     "output_type": "execute_result"
    }
   ],
   "source": [
    "from sklearn.preprocessing import normalize,scale\n",
    "data_scaled = scale(trainDfDp[feature_columns])\n",
    "data_scaled\n",
    "scale([110,20])"
   ]
  },
  {
   "cell_type": "code",
   "execution_count": 34,
   "id": "macro-creation",
   "metadata": {
    "execution": {
     "iopub.execute_input": "2021-04-18T07:13:26.498165Z",
     "iopub.status.busy": "2021-04-18T07:13:26.497063Z",
     "iopub.status.idle": "2021-04-18T07:13:26.507048Z",
     "shell.execute_reply": "2021-04-18T07:13:26.506221Z"
    },
    "papermill": {
     "duration": 0.083743,
     "end_time": "2021-04-18T07:13:26.507228",
     "exception": false,
     "start_time": "2021-04-18T07:13:26.423485",
     "status": "completed"
    },
    "tags": []
   },
   "outputs": [],
   "source": [
    "x_train_dp,x_test_dp,y_train_dp,y_test_dp = train_test_split(data_scaled, trainDfDp[target_column], test_size=0.2)"
   ]
  },
  {
   "cell_type": "code",
   "execution_count": 35,
   "id": "necessary-combat",
   "metadata": {
    "execution": {
     "iopub.execute_input": "2021-04-18T07:13:26.655113Z",
     "iopub.status.busy": "2021-04-18T07:13:26.654264Z",
     "iopub.status.idle": "2021-04-18T07:13:28.450318Z",
     "shell.execute_reply": "2021-04-18T07:13:28.449426Z"
    },
    "papermill": {
     "duration": 1.875379,
     "end_time": "2021-04-18T07:13:28.450525",
     "exception": false,
     "start_time": "2021-04-18T07:13:26.575146",
     "status": "completed"
    },
    "tags": []
   },
   "outputs": [
    {
     "name": "stderr",
     "output_type": "stream",
     "text": [
      "/opt/conda/lib/python3.7/site-packages/ipykernel_launcher.py:2: DataConversionWarning: A column-vector y was passed when a 1d array was expected. Please change the shape of y to (n_samples,), for example using ravel().\n",
      "  \n"
     ]
    }
   ],
   "source": [
    "randomFor_dp = RandomForestRegressor(n_estimators = 100, random_state = 0)\n",
    "fitted_dp = randomFor_dp.fit(x_train_dp,y_train_dp)"
   ]
  },
  {
   "cell_type": "code",
   "execution_count": 36,
   "id": "junior-opera",
   "metadata": {
    "execution": {
     "iopub.execute_input": "2021-04-18T07:13:28.589913Z",
     "iopub.status.busy": "2021-04-18T07:13:28.589025Z",
     "iopub.status.idle": "2021-04-18T07:13:28.659064Z",
     "shell.execute_reply": "2021-04-18T07:13:28.658166Z"
    },
    "papermill": {
     "duration": 0.144371,
     "end_time": "2021-04-18T07:13:28.659251",
     "exception": false,
     "start_time": "2021-04-18T07:13:28.514880",
     "status": "completed"
    },
    "tags": []
   },
   "outputs": [],
   "source": [
    "y_pred_dp = randomFor_dp.predict(x_test_dp)"
   ]
  },
  {
   "cell_type": "code",
   "execution_count": 37,
   "id": "monthly-explorer",
   "metadata": {
    "execution": {
     "iopub.execute_input": "2021-04-18T07:13:28.808065Z",
     "iopub.status.busy": "2021-04-18T07:13:28.803507Z",
     "iopub.status.idle": "2021-04-18T07:13:28.816047Z",
     "shell.execute_reply": "2021-04-18T07:13:28.815175Z"
    },
    "papermill": {
     "duration": 0.092654,
     "end_time": "2021-04-18T07:13:28.816435",
     "exception": false,
     "start_time": "2021-04-18T07:13:28.723781",
     "status": "completed"
    },
    "tags": []
   },
   "outputs": [
    {
     "name": "stdout",
     "output_type": "stream",
     "text": [
      "Mean Absolute Error: 0.8186009309119066\n",
      "Mean Squared Error: 1.1280733256061837\n",
      "Root Mean Squared Error: 1.0621079632533519\n"
     ]
    }
   ],
   "source": [
    "print('Mean Absolute Error:', metrics.mean_absolute_error(y_test_dp, y_pred_dp))\n",
    "print('Mean Squared Error:', metrics.mean_squared_error(y_test_dp, y_pred_dp))\n",
    "print('Root Mean Squared Error:', np.sqrt(metrics.mean_squared_error(y_test_dp, y_pred_dp)))"
   ]
  },
  {
   "cell_type": "code",
   "execution_count": null,
   "id": "painted-inspection",
   "metadata": {
    "papermill": {
     "duration": 0.045151,
     "end_time": "2021-04-18T07:13:28.904901",
     "exception": false,
     "start_time": "2021-04-18T07:13:28.859750",
     "status": "completed"
    },
    "tags": []
   },
   "outputs": [],
   "source": []
  }
 ],
 "metadata": {
  "kernelspec": {
   "display_name": "Python 3",
   "language": "python",
   "name": "python3"
  },
  "language_info": {
   "codemirror_mode": {
    "name": "ipython",
    "version": 3
   },
   "file_extension": ".py",
   "mimetype": "text/x-python",
   "name": "python",
   "nbconvert_exporter": "python",
   "pygments_lexer": "ipython3",
   "version": "3.7.9"
  },
  "papermill": {
   "default_parameters": {},
   "duration": 23.072442,
   "end_time": "2021-04-18T07:13:30.073268",
   "environment_variables": {},
   "exception": null,
   "input_path": "__notebook__.ipynb",
   "output_path": "__notebook__.ipynb",
   "parameters": {},
   "start_time": "2021-04-18T07:13:07.000826",
   "version": "2.3.2"
  }
 },
 "nbformat": 4,
 "nbformat_minor": 5
}
